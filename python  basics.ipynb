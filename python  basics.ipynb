{
 "cells": [
  {
   "cell_type": "markdown",
   "metadata": {},
   "source": [
    "# PYTHON KEYWORDS"
   ]
  },
  {
   "cell_type": "code",
   "execution_count": null,
   "metadata": {},
   "outputs": [],
   "source": [
    "import keyword\n",
    "print(keyword.kwlist)  # This code  is  used  to  get  python  keyword list."
   ]
  },
  {
   "cell_type": "markdown",
   "metadata": {},
   "source": [
    "# PYTHON STATEMENTS"
   ]
  },
  {
   "cell_type": "code",
   "execution_count": null,
   "metadata": {},
   "outputs": [],
   "source": [
    "a=1"
   ]
  },
  {
   "cell_type": "code",
   "execution_count": null,
   "metadata": {},
   "outputs": [],
   "source": [
    "a =1+2+3+     #  THis  is  inavlid  beacuse  ,  we  cannot  give  a mulitiline statements.\n",
    "4+5+"
   ]
  },
  {
   "cell_type": "code",
   "execution_count": null,
   "metadata": {},
   "outputs": [],
   "source": [
    "a = 1+2+3+ \\\n",
    "     4+5+ \\     #  THIS  IS  VALID , WE  CAN GIVE THE STATEMENTS OF  MULTILINE IN THIS WAY.\n",
    "     7"
   ]
  },
  {
   "cell_type": "code",
   "execution_count": null,
   "metadata": {},
   "outputs": [],
   "source": [
    "print (a)"
   ]
  },
  {
   "cell_type": "markdown",
   "metadata": {},
   "source": [
    "# PYTHON INTENDATION"
   ]
  },
  {
   "cell_type": "code",
   "execution_count": null,
   "metadata": {},
   "outputs": [],
   "source": [
    "for i in range(1,11):\n",
    "print(i)               #  here, is a  indentation error  that is  space"
   ]
  },
  {
   "cell_type": "code",
   "execution_count": null,
   "metadata": {},
   "outputs": [],
   "source": []
  },
  {
   "cell_type": "code",
   "execution_count": null,
   "metadata": {},
   "outputs": [],
   "source": [
    "for i in range(1,11):\n",
    "    print(i)               #  here, we have  corrected  the  indentation error.by  giving  a  tab space it  i  \n",
    "                                      #         generally 4  tab space."
   ]
  },
  {
   "cell_type": "markdown",
   "metadata": {},
   "source": [
    "# PYTHON   COMMENTS"
   ]
  },
  {
   "cell_type": "code",
   "execution_count": null,
   "metadata": {},
   "outputs": [],
   "source": [
    "#define  a variable a \n",
    "a = 10\n",
    "#define a  variable b\n",
    "b = 20 \n",
    "#define a variable c  and add the  addition value of a and c\n",
    "c = a+b\n",
    "#print the  value of c\n",
    "print(c)                            #  FOR  comments  we  have  to  use ash  and it  should  be  used  in  \n",
    "                                      #   every line  for  commenting  in a  particular line."
   ]
  },
  {
   "cell_type": "code",
   "execution_count": null,
   "metadata": {},
   "outputs": [],
   "source": [
    "\"\"\"define  a variable a                  # This  is  a  example way of  commenting.\n",
    "a  variable is holding a  value 10\n",
    "b variable is holding a value 20 \"\"\"     #  WE  CAN  COMMENTS  BY  USING  THE DOUBLE  QUOTES OPENING AND ENDING\n",
    "                                        #  at particular comments  and  by avoiding ashes."
   ]
  },
  {
   "cell_type": "code",
   "execution_count": null,
   "metadata": {},
   "outputs": [],
   "source": []
  },
  {
   "cell_type": "markdown",
   "metadata": {},
   "source": [
    "# ASSIGNING MULTIPLE VALUES TO VARIABLES IN PYTHON"
   ]
  },
  {
   "cell_type": "code",
   "execution_count": null,
   "metadata": {},
   "outputs": [],
   "source": [
    "a,b,c = 5,3,\"hello\""
   ]
  },
  {
   "cell_type": "code",
   "execution_count": null,
   "metadata": {},
   "outputs": [],
   "source": [
    "print(a)"
   ]
  },
  {
   "cell_type": "code",
   "execution_count": null,
   "metadata": {},
   "outputs": [],
   "source": [
    "print(b)"
   ]
  },
  {
   "cell_type": "code",
   "execution_count": null,
   "metadata": {},
   "outputs": [],
   "source": [
    "print(c)"
   ]
  },
  {
   "cell_type": "code",
   "execution_count": null,
   "metadata": {},
   "outputs": [],
   "source": [
    "x = y = z = 45"
   ]
  },
  {
   "cell_type": "code",
   "execution_count": null,
   "metadata": {},
   "outputs": [],
   "source": [
    "print(x)"
   ]
  },
  {
   "cell_type": "code",
   "execution_count": null,
   "metadata": {},
   "outputs": [],
   "source": [
    "print(y)"
   ]
  },
  {
   "cell_type": "code",
   "execution_count": null,
   "metadata": {},
   "outputs": [],
   "source": [
    "print(z)"
   ]
  },
  {
   "cell_type": "code",
   "execution_count": null,
   "metadata": {},
   "outputs": [],
   "source": [
    "snake_case = 1\n",
    "MACRO_CASE = 2\n",
    "camelcase = 8\n",
    "Capwords  = 10      #  these all   are  the correct noatations."
   ]
  },
  {
   "cell_type": "code",
   "execution_count": null,
   "metadata": {},
   "outputs": [],
   "source": [
    "PI = 2.24  #  we  have  to declare the  constant  varibales witht   the  capital  letters  only.\n",
    "              #  we  will  never  use  the special  symbols  as  @, # , $  example symbols  never."
   ]
  },
  {
   "cell_type": "code",
   "execution_count": null,
   "metadata": {},
   "outputs": [],
   "source": [
    "1a =25   #  we  shouldn,t  use  the  digits  in  declaring the  variables"
   ]
  },
  {
   "cell_type": "markdown",
   "metadata": {},
   "source": [
    "# LITERALS"
   ]
  },
  {
   "cell_type": "code",
   "execution_count": null,
   "metadata": {},
   "outputs": [],
   "source": [
    "numeric literals\n",
    "string literals\n",
    "boolean literals      #  THESE  ARE  3  TYPES  OF  LITERALS"
   ]
  },
  {
   "cell_type": "markdown",
   "metadata": {},
   "source": [
    "# NUMERICAL  LITERALS  :  "
   ]
  },
  {
   "cell_type": "code",
   "execution_count": null,
   "metadata": {},
   "outputs": [],
   "source": [
    "the  numerical  literals  are   3  types   that  are  1.integer , 2.float, 3.complex.  The  numerical literals  are immutable"
   ]
  },
  {
   "cell_type": "code",
   "execution_count": null,
   "metadata": {},
   "outputs": [],
   "source": [
    "a = 123 # integer literal\n",
    "b = 0b101010  # binary literal\n",
    "c = 10.5   # float  literal\n",
    "d = 3.14j  # complex literal\n",
    "\n",
    "print(a,b,c,d)"
   ]
  },
  {
   "cell_type": "markdown",
   "metadata": {},
   "source": [
    "STRING  LITERALS :"
   ]
  },
  {
   "cell_type": "code",
   "execution_count": null,
   "metadata": {},
   "outputs": [],
   "source": [
    "string = 'raviteja'\n",
    "char = 'a'\n",
    "string = \"\"\"\"this is raviteja  , btech cse\"\"\"."
   ]
  },
  {
   "cell_type": "code",
   "execution_count": null,
   "metadata": {},
   "outputs": [],
   "source": [
    "BOOLEAN LITERALS:"
   ]
  },
  {
   "cell_type": "code",
   "execution_count": null,
   "metadata": {},
   "outputs": [],
   "source": [
    "a = True"
   ]
  },
  {
   "cell_type": "code",
   "execution_count": null,
   "metadata": {},
   "outputs": [],
   "source": [
    "b = False"
   ]
  },
  {
   "cell_type": "markdown",
   "metadata": {},
   "source": [
    "# DATATYPES"
   ]
  },
  {
   "cell_type": "code",
   "execution_count": null,
   "metadata": {},
   "outputs": [],
   "source": [
    "fundemental:\n",
    "    numerical = integers , float , boolean\n",
    "    strings = charc  and  strings\n",
    "    \n",
    "COLLECTION:\n",
    "    sequence = list and tuple\n",
    "    non-sequence = dictionary and  set."
   ]
  },
  {
   "cell_type": "code",
   "execution_count": null,
   "metadata": {},
   "outputs": [],
   "source": [
    "a = 10 #integer\n",
    "b = 10.5 #float\n",
    "c = 3.4j\n",
    "d = True"
   ]
  },
  {
   "cell_type": "code",
   "execution_count": null,
   "metadata": {},
   "outputs": [],
   "source": [
    "type(a)    #  used  to  check  the  type  of  given value  datatype."
   ]
  },
  {
   "cell_type": "code",
   "execution_count": null,
   "metadata": {},
   "outputs": [],
   "source": [
    "print(\"the value of a is\",a,\"the value of b is\",b,\"the value of c is\",c)"
   ]
  },
  {
   "cell_type": "code",
   "execution_count": null,
   "metadata": {},
   "outputs": [],
   "source": [
    "print(\"the value of a is %d   the value of b is % f  the imaginary value of c is %d  and the real value of c is %d\"%(a,b,c.imag,c.real))"
   ]
  },
  {
   "cell_type": "code",
   "execution_count": null,
   "metadata": {},
   "outputs": [],
   "source": [
    "#  here , in the  above code %d is used to  print integer,  %f  for float  ."
   ]
  },
  {
   "cell_type": "markdown",
   "metadata": {},
   "source": [
    "# STRINGS"
   ]
  },
  {
   "cell_type": "code",
   "execution_count": null,
   "metadata": {},
   "outputs": [],
   "source": [
    " string = \"welcome to smart bridge\""
   ]
  },
  {
   "cell_type": "code",
   "execution_count": null,
   "metadata": {},
   "outputs": [],
   "source": [
    "string[0]"
   ]
  },
  {
   "cell_type": "code",
   "execution_count": null,
   "metadata": {},
   "outputs": [],
   "source": [
    "string[11:]"
   ]
  },
  {
   "cell_type": "code",
   "execution_count": null,
   "metadata": {},
   "outputs": [],
   "source": [
    "string[:7]"
   ]
  },
  {
   "cell_type": "code",
   "execution_count": null,
   "metadata": {},
   "outputs": [],
   "source": [
    "  dir(string)   # tries  to  return the list of all valid attributes for that object with argument.\n",
    "                  # returns the list of names in the current  local scope without argument."
   ]
  },
  {
   "cell_type": "code",
   "execution_count": null,
   "metadata": {},
   "outputs": [],
   "source": [
    "dir(\"python\") # directory of  python ."
   ]
  },
  {
   "cell_type": "code",
   "execution_count": null,
   "metadata": {},
   "outputs": [],
   "source": [
    "#variablename.functionname()  # this syntax is used to the directory  declaration."
   ]
  },
  {
   "cell_type": "code",
   "execution_count": null,
   "metadata": {},
   "outputs": [],
   "source": [
    "string.capitalize()   # converts   first letter  to the capital one."
   ]
  },
  {
   "cell_type": "code",
   "execution_count": null,
   "metadata": {},
   "outputs": [],
   "source": [
    "string.casefold()  #  will  convert all the functions into small  letters."
   ]
  },
  {
   "cell_type": "code",
   "execution_count": null,
   "metadata": {},
   "outputs": [],
   "source": [
    "print(string)"
   ]
  },
  {
   "cell_type": "markdown",
   "metadata": {},
   "source": [
    "# LISTS"
   ]
  },
  {
   "cell_type": "code",
   "execution_count": null,
   "metadata": {},
   "outputs": [],
   "source": [
    "the  list  items   are  enclosed in square brackets and separated  by commas  and  it takes different data types"
   ]
  },
  {
   "cell_type": "code",
   "execution_count": null,
   "metadata": {},
   "outputs": [],
   "source": [
    "list = [1,3,5,\"hello\",\"john\"]"
   ]
  },
  {
   "cell_type": "code",
   "execution_count": null,
   "metadata": {},
   "outputs": [],
   "source": [
    "list.append(2) #  we can pass only single argument"
   ]
  },
  {
   "cell_type": "code",
   "execution_count": null,
   "metadata": {},
   "outputs": [],
   "source": [
    "list"
   ]
  },
  {
   "cell_type": "code",
   "execution_count": null,
   "metadata": {},
   "outputs": [],
   "source": [
    "list.extend(2,3,4,5) # add more  than one element."
   ]
  },
  {
   "cell_type": "code",
   "execution_count": null,
   "metadata": {},
   "outputs": [],
   "source": [
    "list.insert(4,\"hey\") #insert at the specified position"
   ]
  },
  {
   "cell_type": "code",
   "execution_count": null,
   "metadata": {},
   "outputs": [],
   "source": [
    "list"
   ]
  },
  {
   "cell_type": "code",
   "execution_count": null,
   "metadata": {},
   "outputs": [],
   "source": [
    "list.pop() # to  remove the last element in the list"
   ]
  },
  {
   "cell_type": "code",
   "execution_count": null,
   "metadata": {},
   "outputs": [],
   "source": [
    "list2 = [i for i in range(10)]  #  for loop"
   ]
  },
  {
   "cell_type": "code",
   "execution_count": null,
   "metadata": {},
   "outputs": [],
   "source": [
    "list2"
   ]
  },
  {
   "cell_type": "code",
   "execution_count": null,
   "metadata": {},
   "outputs": [],
   "source": [
    "list2 = [i for i in range(10) if (i%2 = 0)] #  printing  only  even numbers using for loop."
   ]
  },
  {
   "cell_type": "code",
   "execution_count": null,
   "metadata": {},
   "outputs": [],
   "source": [
    "list2"
   ]
  },
  {
   "cell_type": "code",
   "execution_count": null,
   "metadata": {},
   "outputs": [],
   "source": []
  },
  {
   "cell_type": "code",
   "execution_count": null,
   "metadata": {},
   "outputs": [],
   "source": [
    "list2 = [i for i in range(10) if (i%2! = 0)] #  printing  only  odd numbers using for loop."
   ]
  },
  {
   "cell_type": "code",
   "execution_count": null,
   "metadata": {},
   "outputs": [],
   "source": [
    "list2"
   ]
  },
  {
   "cell_type": "markdown",
   "metadata": {},
   "source": [
    "#  TUPLE"
   ]
  },
  {
   "cell_type": "code",
   "execution_count": null,
   "metadata": {},
   "outputs": [],
   "source": [
    "the  tuple  is  immutable and it  is  declared  with parenthesis."
   ]
  },
  {
   "cell_type": "code",
   "execution_count": null,
   "metadata": {},
   "outputs": [],
   "source": [
    "tuple = (5, \"program\", 2.5)"
   ]
  },
  {
   "cell_type": "code",
   "execution_count": null,
   "metadata": {},
   "outputs": [],
   "source": [
    "tuple[1]"
   ]
  },
  {
   "cell_type": "code",
   "execution_count": null,
   "metadata": {},
   "outputs": [],
   "source": [
    "dir(tuple)  #  different functions of tuple"
   ]
  },
  {
   "cell_type": "markdown",
   "metadata": {},
   "source": [
    "# DICTIONARY"
   ]
  },
  {
   "cell_type": "code",
   "execution_count": null,
   "metadata": {},
   "outputs": [],
   "source": [
    "THE  DICTIONARY  IS  PRESENT  IN THE FORM OF  UN-ORDERED KEY VALUE PAIRS. IT  IS  GENRALLY  USED  WHEN  THERE IS  A  \n",
    "HUGE DATA AND THE   DICTIONARIES  ARE OPTIMISED FOR RETRIEVING THE DATA  AND TO RETRIVE THE DATA  WE  MUST KNOW THE KEY.\n"
   ]
  },
  {
   "cell_type": "code",
   "execution_count": null,
   "metadata": {},
   "outputs": [],
   "source": [
    "THE DICTIONARY IS DEFINED WITH THE CURLY BRACES."
   ]
  },
  {
   "cell_type": "code",
   "execution_count": null,
   "metadata": {},
   "outputs": [],
   "source": [
    "dict = {1: 'value' , \"key\":2}"
   ]
  },
  {
   "cell_type": "code",
   "execution_count": null,
   "metadata": {},
   "outputs": [],
   "source": [
    "dict['key']=12345  # we  can mutates  the  values   but  not  keys  are not mutable"
   ]
  },
  {
   "cell_type": "code",
   "execution_count": null,
   "metadata": {},
   "outputs": [],
   "source": [
    "dir(dict)"
   ]
  },
  {
   "cell_type": "code",
   "execution_count": null,
   "metadata": {},
   "outputs": [],
   "source": [
    "dict.keys()  # it  gives  the  all the  values of  keys"
   ]
  },
  {
   "cell_type": "markdown",
   "metadata": {},
   "source": [
    "# SET "
   ]
  },
  {
   "cell_type": "code",
   "execution_count": null,
   "metadata": {},
   "outputs": [],
   "source": [
    "the  sets   are  immutable  and  inexing and slicing are impossible"
   ]
  },
  {
   "cell_type": "code",
   "execution_count": null,
   "metadata": {},
   "outputs": [],
   "source": [
    "dir(set)"
   ]
  },
  {
   "cell_type": "code",
   "execution_count": null,
   "metadata": {},
   "outputs": [],
   "source": [
    "a = {1,2,3,4,5}"
   ]
  },
  {
   "cell_type": "code",
   "execution_count": null,
   "metadata": {},
   "outputs": [],
   "source": [
    "a[2:3]  #  not  mutable and slicable"
   ]
  },
  {
   "cell_type": "markdown",
   "metadata": {},
   "source": [
    "# CONVERSION  BETWEEN DATA TYPE"
   ]
  },
  {
   "cell_type": "code",
   "execution_count": null,
   "metadata": {},
   "outputs": [],
   "source": [
    "we  have the type  conversion functions like int() , float() , str()"
   ]
  },
  {
   "cell_type": "code",
   "execution_count": null,
   "metadata": {},
   "outputs": [],
   "source": [
    "a =2.5"
   ]
  },
  {
   "cell_type": "code",
   "execution_count": null,
   "metadata": {},
   "outputs": [],
   "source": [
    "type(a)  #  a is float  type"
   ]
  },
  {
   "cell_type": "code",
   "execution_count": null,
   "metadata": {},
   "outputs": [],
   "source": [
    "b = int(a)  #  converting  float function into int  function"
   ]
  },
  {
   "cell_type": "code",
   "execution_count": null,
   "metadata": {},
   "outputs": [],
   "source": [
    "b"
   ]
  },
  {
   "cell_type": "code",
   "execution_count": null,
   "metadata": {},
   "outputs": [],
   "source": [
    "type(b)"
   ]
  },
  {
   "cell_type": "code",
   "execution_count": null,
   "metadata": {},
   "outputs": [],
   "source": [
    "c = 25"
   ]
  },
  {
   "cell_type": "code",
   "execution_count": null,
   "metadata": {},
   "outputs": [],
   "source": [
    "type(c)"
   ]
  },
  {
   "cell_type": "code",
   "execution_count": null,
   "metadata": {},
   "outputs": [],
   "source": [
    "d = float(c)  #converting int into float of  d"
   ]
  },
  {
   "cell_type": "code",
   "execution_count": null,
   "metadata": {},
   "outputs": [],
   "source": [
    "d"
   ]
  },
  {
   "cell_type": "code",
   "execution_count": null,
   "metadata": {},
   "outputs": [],
   "source": [
    "type(d)"
   ]
  },
  {
   "cell_type": "code",
   "execution_count": null,
   "metadata": {},
   "outputs": [],
   "source": [
    "string ='12345'"
   ]
  },
  {
   "cell_type": "code",
   "execution_count": null,
   "metadata": {},
   "outputs": [],
   "source": [
    "type(string)"
   ]
  },
  {
   "cell_type": "code",
   "execution_count": null,
   "metadata": {},
   "outputs": [],
   "source": [
    "sf =  float(string)  # converting string into  float\n",
    "si = int(string)   # converting string into  the int."
   ]
  },
  {
   "cell_type": "code",
   "execution_count": null,
   "metadata": {},
   "outputs": [],
   "source": [
    "sf"
   ]
  },
  {
   "cell_type": "code",
   "execution_count": null,
   "metadata": {},
   "outputs": [],
   "source": [
    "type(sf)"
   ]
  },
  {
   "cell_type": "code",
   "execution_count": null,
   "metadata": {},
   "outputs": [],
   "source": [
    "si"
   ]
  },
  {
   "cell_type": "code",
   "execution_count": null,
   "metadata": {},
   "outputs": [],
   "source": [
    "type(si)"
   ]
  },
  {
   "cell_type": "code",
   "execution_count": null,
   "metadata": {},
   "outputs": [],
   "source": [
    "string = 'pradee'   #  we  cannot  convert  this alphabetically  string  into  float\n",
    "                      #  to  convert a  string into  float  it  should  be in the numerical  data."
   ]
  },
  {
   "cell_type": "code",
   "execution_count": null,
   "metadata": {},
   "outputs": [],
   "source": [
    "a = input(\"enter the value of a\")   #  the  input  function in python  is used to  take the input  from the user."
   ]
  },
  {
   "cell_type": "code",
   "execution_count": null,
   "metadata": {},
   "outputs": [],
   "source": []
  },
  {
   "cell_type": "code",
   "execution_count": null,
   "metadata": {},
   "outputs": [],
   "source": [
    "a = input(\"enter the value of a\")  \n",
    "b = input(\"enter the value of b\")\n",
    "c = a+b\n",
    "print(a,b,c)               #  here  the  input  value  of  a  is  12  and  b  is  45  but  their  sum  c  is  1245  \n",
    "              #  it  is  showing  wrong  format  because  it  is  considering it  is a string"
   ]
  },
  {
   "cell_type": "code",
   "execution_count": null,
   "metadata": {},
   "outputs": [],
   "source": [
    "a = 10"
   ]
  },
  {
   "cell_type": "code",
   "execution_count": null,
   "metadata": {},
   "outputs": [],
   "source": [
    "type(a)"
   ]
  },
  {
   "cell_type": "code",
   "execution_count": null,
   "metadata": {},
   "outputs": [],
   "source": [
    "a = int(input(\"enter the value of a\")) \n",
    "b = int(input(\"enter the value of b\"))\n",
    "c = a+b\n",
    "print(a,b,c)      #   if  we  cahnge the above  program in  string mode as  int   then  adddition a+b  which  is  c will give\n",
    "            #  the  right value  ."
   ]
  },
  {
   "cell_type": "code",
   "execution_count": null,
   "metadata": {},
   "outputs": [],
   "source": [
    "type(a)  #  in the above code before  modifiede into int ,  it  was  in the string mode  type  now  the \n",
    "                # type is  changed  to  the int  one."
   ]
  },
  {
   "cell_type": "code",
   "execution_count": null,
   "metadata": {},
   "outputs": [],
   "source": []
  },
  {
   "cell_type": "markdown",
   "metadata": {},
   "source": [
    "# CONDITIONAL STATEMENTS"
   ]
  },
  {
   "cell_type": "markdown",
   "metadata": {},
   "source": [
    "# IF  STATEMENT:"
   ]
  },
  {
   "cell_type": "code",
   "execution_count": null,
   "metadata": {},
   "outputs": [],
   "source": [
    "num = 3\n",
    "if  (num >0):\n",
    "        print(\"the number is positive\",num)\n",
    "num = -1\n",
    "if num >0 :                                                #  if  condition  is  true  then the statement executed\n",
    "        print(\"is a positive number\",num)               # but the second if condition, is not true that is the reason\n",
    "                                                        #it  was not exceuted"
   ]
  },
  {
   "cell_type": "markdown",
   "metadata": {},
   "source": [
    "# IF ELSE"
   ]
  },
  {
   "cell_type": "code",
   "execution_count": null,
   "metadata": {},
   "outputs": [],
   "source": [
    "num = 3\n",
    "if  num >= 0 :\n",
    "        print(\"the number is positive\",)\n",
    "else:                                              #  if  condition  is  true  then the statement executed\n",
    "        print(\"is a negative number\")               \n",
    "                                                        "
   ]
  },
  {
   "cell_type": "code",
   "execution_count": null,
   "metadata": {},
   "outputs": [],
   "source": []
  },
  {
   "cell_type": "code",
   "execution_count": null,
   "metadata": {},
   "outputs": [],
   "source": [
    "num = -5\n",
    "if  num >= 0 :\n",
    "        print(\"the number is positive\",)\n",
    "else:                                              #  if  condition  is  not true then the  else  part  is  not  executed.\n",
    "        print(\"is a negative number\")               \n",
    "                                                        "
   ]
  },
  {
   "cell_type": "markdown",
   "metadata": {},
   "source": [
    "# if  else  if  statements"
   ]
  },
  {
   "cell_type": "code",
   "execution_count": null,
   "metadata": {},
   "outputs": [],
   "source": [
    "syntax:\n",
    "     \n",
    "if condition:\n",
    "    statements \n",
    "elif condition\n",
    "    statements          #  if  condition is  true  then if  is executed  , if  is false then it will  go into  elif  part \n",
    "                          # and  check  multiple elif statements if  any one  of  them  is true then it  is  executed  , if\n",
    "                               # no  if  part  is  true  then the else part is excuted.\n",
    "else:\n",
    "    statements\n",
    "    \n",
    "    "
   ]
  },
  {
   "cell_type": "code",
   "execution_count": null,
   "metadata": {},
   "outputs": [],
   "source": [
    "num = 0\n",
    "if num > 0 :\n",
    "    print(\"positive number\")\n",
    "elif num== 0:\n",
    "    print(\"zero\")\n",
    "else:\n",
    "    print(\"negative number\")     # elif is  excecued beacuse the if  part is false."
   ]
  },
  {
   "cell_type": "code",
   "execution_count": null,
   "metadata": {},
   "outputs": [],
   "source": [
    "num = 2\n",
    "if num > 0 :\n",
    "    print(\"positive number\")\n",
    "elif num== 0:\n",
    "    print(\"zero\")\n",
    "else:\n",
    "    print(\"negative number\")     # if  statement  is  executed  because it  is   true."
   ]
  },
  {
   "cell_type": "code",
   "execution_count": null,
   "metadata": {},
   "outputs": [],
   "source": [
    "num = -2\n",
    "if num > 0 :\n",
    "    print(\"positive number\")\n",
    "elif num== 0:\n",
    "    print(\"zero\")\n",
    "else:\n",
    "    print(\"negative number\")     # else statement  is  executed  because  if  and  elseif  are false."
   ]
  },
  {
   "cell_type": "markdown",
   "metadata": {},
   "source": [
    "# NESTED IF ELSE CONDITIONS:"
   ]
  },
  {
   "cell_type": "code",
   "execution_count": null,
   "metadata": {},
   "outputs": [],
   "source": [
    "num = float(input(\"enter a number\"))\n",
    "if num >= 0:\n",
    "    if num == 0:\n",
    "        print(\"zero\")\n",
    "    else:\n",
    "        print(\"positive number\")    #  here  the  first if part  is statisfied then it  goes second \n",
    "                                   # if  statement  and it  is true and it  is  executed.\n",
    "else:\n",
    "    print(\"nrgative number\")"
   ]
  },
  {
   "cell_type": "code",
   "execution_count": null,
   "metadata": {},
   "outputs": [],
   "source": []
  },
  {
   "cell_type": "code",
   "execution_count": null,
   "metadata": {},
   "outputs": [],
   "source": [
    "num = float(input(\"enter a number\"))\n",
    "if num >= 0:\n",
    "    if num == 0:\n",
    "        print(\"zero\")\n",
    "    else:\n",
    "        print(\"positive number\")    #  here  the  first if part  is statisfied then it  goes to second \n",
    "                                   # if  statement  and it  is false  then  else part of if num == 0 is  avoided  and  the \n",
    "                                    # last else related to the first if part is exected.\n",
    "else:\n",
    "    print(\"nrgative number\")"
   ]
  },
  {
   "cell_type": "code",
   "execution_count": null,
   "metadata": {},
   "outputs": [],
   "source": []
  },
  {
   "cell_type": "code",
   "execution_count": null,
   "metadata": {},
   "outputs": [],
   "source": [
    "num = float(input(\"enter a number\"))\n",
    "if num >= 0:\n",
    "    if num == 0:\n",
    "        print(\"zero\")\n",
    "    else:\n",
    "        print(\"positive number\")    #  here  the  first if part  is statisfied then it  goes to second \n",
    "                                   # if  statement  and it  is false  then  else part of if num == 0 is  executed.\n",
    "                                    \n",
    "else:\n",
    "    print(\"negative number\")"
   ]
  },
  {
   "cell_type": "markdown",
   "metadata": {},
   "source": [
    "# LOOP  STATEMENTS  IN PYTHON"
   ]
  },
  {
   "cell_type": "markdown",
   "metadata": {},
   "source": [
    "# 1. WHILE  LOOP"
   ]
  },
  {
   "cell_type": "code",
   "execution_count": null,
   "metadata": {},
   "outputs": [],
   "source": [
    "#  we  use  while  while loop  ,  when the  number of  iterations are not  known in  advance."
   ]
  },
  {
   "cell_type": "code",
   "execution_count": null,
   "metadata": {},
   "outputs": [],
   "source": [
    "syntax  of  while loop:\n",
    "    \n",
    "while condition:\n",
    "    body statements"
   ]
  },
  {
   "cell_type": "code",
   "execution_count": 3,
   "metadata": {},
   "outputs": [
    {
     "name": "stdout",
     "output_type": "stream",
     "text": [
      "the value is less than 10 0\n",
      "the value is less than 10 1\n",
      "the value is less than 10 2\n",
      "the value is less than 10 3\n",
      "the value is less than 10 4\n",
      "the value is less than 10 5\n",
      "the value is less than 10 6\n",
      "the value is less than 10 7\n",
      "the value is less than 10 8\n",
      "the value is less than 10 9\n"
     ]
    }
   ],
   "source": [
    "num = 0\n",
    "while num < 10: \n",
    "    print(\"the value is less than 10\",num)\n",
    "    num = num +1                #  here it  will  print  from numbers from  0 to  9  because  after 10  the while  \n",
    "                       # condition is  not   satisfied."
   ]
  },
  {
   "cell_type": "markdown",
   "metadata": {},
   "source": [
    "#  FOR LOOP"
   ]
  },
  {
   "cell_type": "code",
   "execution_count": null,
   "metadata": {},
   "outputs": [],
   "source": [
    "#THE  FOR  LOOP  IS  USED  TO  ITEARATE OVER A SEQUENCE  OF  LIST OR  TUPLE OR STRING OR  NUMBERS  OR\n",
    " # OTHER  ITERATIVE  OBJECTS:"
   ]
  },
  {
   "cell_type": "code",
   "execution_count": null,
   "metadata": {},
   "outputs": [],
   "source": [
    "# syntax  of   for loop :\n",
    "\n",
    "  for loop in sequen:\n",
    "        body for for loop"
   ]
  },
  {
   "cell_type": "code",
   "execution_count": 4,
   "metadata": {},
   "outputs": [
    {
     "name": "stdout",
     "output_type": "stream",
     "text": [
      "0\n",
      "1\n",
      "2\n",
      "3\n",
      "4\n",
      "5\n",
      "6\n",
      "7\n",
      "8\n",
      "9\n"
     ]
    }
   ],
   "source": [
    "for i in  range(10) :    #  it  is  used  to  print   numbers  from  0 to 9  printed.\n",
    "    print(i)"
   ]
  },
  {
   "cell_type": "code",
   "execution_count": 5,
   "metadata": {},
   "outputs": [
    {
     "name": "stdout",
     "output_type": "stream",
     "text": [
      "6\n",
      "5\n",
      "3\n",
      "8\n",
      "4\n",
      "2\n",
      "3\n",
      "1\n"
     ]
    }
   ],
   "source": [
    "numbers = [6,5,3,8,4,2,3,1]\n",
    "for i  in numbers:              # it  prints  the  numbers  list  until  the  list  is  empty.\n",
    "    print(i)"
   ]
  },
  {
   "cell_type": "code",
   "execution_count": 6,
   "metadata": {},
   "outputs": [
    {
     "name": "stdout",
     "output_type": "stream",
     "text": [
      "w\n",
      "e\n",
      "l\n",
      "c\n",
      "o\n",
      "m\n",
      "e\n",
      " \n",
      "t\n",
      "o\n",
      " \n",
      "s\n",
      "m\n",
      "a\n",
      "r\n",
      "t\n",
      " \n",
      "b\n",
      "r\n",
      "i\n",
      "d\n",
      "g\n",
      "e\n",
      " \n"
     ]
    }
   ],
   "source": [
    "string = 'welcome to smart bridge '\n",
    "for i in string:\n",
    "    print(i)        #  THE  for  loop  iterates through the loop  of  staring  until  each  and  evry  element  of  string is\n",
    "                 #  printed."
   ]
  },
  {
   "cell_type": "code",
   "execution_count": 14,
   "metadata": {},
   "outputs": [
    {
     "name": "stdout",
     "output_type": "stream",
     "text": [
      "sum of all elements in given list:  11\n",
      "sum of all elements in given list:  23\n",
      "sum of all elements in given list:  36\n",
      "sum of all elements in given list:  50\n",
      "sum of all elements in given list:  65\n",
      "sum of all elements in given list:  81\n"
     ]
    }
   ],
   "source": [
    "total = 0\n",
    "list1 = [11,12,13,14,15,16]\n",
    "for  ele in range(0,len(list1)):\n",
    "    total = total +list1[ele]\n",
    "    print(\"sum of all elements in given list: \",total)"
   ]
  },
  {
   "cell_type": "code",
   "execution_count": null,
   "metadata": {},
   "outputs": [],
   "source": [
    "#BREAK AND CONTINUE STATEMENTS IN PYTHON:\n"
   ]
  },
  {
   "cell_type": "code",
   "execution_count": 16,
   "metadata": {},
   "outputs": [
    {
     "name": "stdout",
     "output_type": "stream",
     "text": [
      "w\n",
      "e\n",
      "l\n",
      "c\n",
      "end\n"
     ]
    }
   ],
   "source": [
    "s = \"welcome to smartbridge\"\n",
    "for value in s:\n",
    "    if value == \"o\":\n",
    "        break\n",
    "    print(value)\n",
    "print(\"end\")         #  the  braek  statement  is used to  braek a for loop"
   ]
  },
  {
   "cell_type": "code",
   "execution_count": 24,
   "metadata": {},
   "outputs": [
    {
     "name": "stdout",
     "output_type": "stream",
     "text": [
      "0\n",
      "2\n",
      "4\n",
      "6\n",
      "8\n",
      "10\n",
      "12\n",
      "14\n",
      "16\n",
      "18\n"
     ]
    }
   ],
   "source": [
    "for i in range(20):\n",
    "    if(i%2!=0):\n",
    "        continue\n",
    "    print(i)      # The continue  is  used  to  skip  the condition"
   ]
  },
  {
   "cell_type": "code",
   "execution_count": null,
   "metadata": {},
   "outputs": [],
   "source": []
  },
  {
   "cell_type": "code",
   "execution_count": 25,
   "metadata": {},
   "outputs": [
    {
     "name": "stdout",
     "output_type": "stream",
     "text": [
      "0\n",
      "1\n",
      "2\n",
      "3\n",
      "4\n",
      "5\n",
      "6\n",
      "7\n",
      "8\n",
      "9\n",
      "10\n",
      "11\n",
      "12\n",
      "13\n",
      "14\n",
      "15\n",
      "16\n",
      "17\n",
      "18\n",
      "19\n"
     ]
    }
   ],
   "source": [
    "for i in range(20):\n",
    "    if(i%2!=0):\n",
    "        pass\n",
    "    print(i)      # The pass  is  used  to  print all the loop."
   ]
  },
  {
   "cell_type": "markdown",
   "metadata": {},
   "source": [
    "#  FUNCTIONS"
   ]
  },
  {
   "cell_type": "code",
   "execution_count": null,
   "metadata": {},
   "outputs": [],
   "source": [
    "syntax  of  the  function  in  python programming:\n",
    "    \n",
    "    \n",
    "def functionname(parameters): \n",
    "    body of the func\n",
    "return"
   ]
  },
  {
   "cell_type": "code",
   "execution_count": 1,
   "metadata": {},
   "outputs": [],
   "source": [
    "def greet(name):\n",
    "    print(\"hello \"+ str(name)+\"good morning\")  #  here we have created the function \"greet\"  with the  parameter  name\n",
    "                                               #  and  the print  will  print  the  parameter  with function call."
   ]
  },
  {
   "cell_type": "code",
   "execution_count": 2,
   "metadata": {},
   "outputs": [
    {
     "name": "stdout",
     "output_type": "stream",
     "text": [
      "hello pradeepthigood morning\n"
     ]
    }
   ],
   "source": [
    "greet(\"pradeepthi\")"
   ]
  },
  {
   "cell_type": "code",
   "execution_count": 3,
   "metadata": {},
   "outputs": [],
   "source": [
    "def add(a,b):\n",
    "    c = a+b\n",
    "    print(c)   #  here we  are  creating  the  function  add  and  adding  them   with c  and  printing  the answer."
   ]
  },
  {
   "cell_type": "code",
   "execution_count": 4,
   "metadata": {},
   "outputs": [
    {
     "name": "stdout",
     "output_type": "stream",
     "text": [
      "enter the value of a20\n",
      "enter the value of b40\n",
      "60\n"
     ]
    }
   ],
   "source": [
    "a = int(input(\"enter the value of a\"))\n",
    "b = int(input(\"enter the value of b\"))\n",
    "add(a,b)"
   ]
  },
  {
   "cell_type": "code",
   "execution_count": null,
   "metadata": {},
   "outputs": [],
   "source": []
  },
  {
   "cell_type": "code",
   "execution_count": 7,
   "metadata": {},
   "outputs": [],
   "source": [
    "def add(a,b):\n",
    "    c = a+b\n",
    "    return c  #  here we  are  creating  the  function  add  and  adding  them   with c  and  printing \n",
    "                      #  the answer  by using the return statement which is  used  to  return the  statement."
   ]
  },
  {
   "cell_type": "code",
   "execution_count": 8,
   "metadata": {},
   "outputs": [
    {
     "name": "stdout",
     "output_type": "stream",
     "text": [
      "enter the value of a20\n",
      "enter the value of b80\n"
     ]
    },
    {
     "data": {
      "text/plain": [
       "100"
      ]
     },
     "execution_count": 8,
     "metadata": {},
     "output_type": "execute_result"
    }
   ],
   "source": [
    "a = int(input(\"enter the value of a\"))\n",
    "b = int(input(\"enter the value of b\"))   #  here  we  are  taking the  in[put  from the  user]\n",
    "add(a,b)"
   ]
  },
  {
   "cell_type": "code",
   "execution_count": null,
   "metadata": {},
   "outputs": [],
   "source": []
  },
  {
   "cell_type": "code",
   "execution_count": 7,
   "metadata": {},
   "outputs": [],
   "source": [
    "def add(a,b):\n",
    "    c = a+b\n",
    "    return c  #  here we  are  creating  the  function  add  and  adding  them   with c  and  printing \n",
    "                      #  the answer  by using the return statement which is  used  to  return the  statement."
   ]
  },
  {
   "cell_type": "code",
   "execution_count": null,
   "metadata": {},
   "outputs": [],
   "source": []
  },
  {
   "cell_type": "code",
   "execution_count": 11,
   "metadata": {},
   "outputs": [
    {
     "name": "stdout",
     "output_type": "stream",
     "text": [
      "enter the value of a20\n",
      "enter the value of b40\n"
     ]
    }
   ],
   "source": [
    "a = int(input(\"enter the value of a\"))\n",
    "b = int(input(\"enter the value of b\"))   #  here  we  are  taking the  in[put  from the  user]\n",
    "d = add(a,b)                  #  here,  the adding  doesn't return  any  thing  beacuse  the  added  value  of a,b is  \n",
    "                   # stored  in a,b and  d  is  not  printed.\n"
   ]
  },
  {
   "cell_type": "code",
   "execution_count": null,
   "metadata": {},
   "outputs": [],
   "source": []
  },
  {
   "cell_type": "code",
   "execution_count": 11,
   "metadata": {},
   "outputs": [
    {
     "name": "stdout",
     "output_type": "stream",
     "text": [
      "enter the value of a20\n",
      "enter the value of b40\n"
     ]
    }
   ],
   "source": [
    "a = int(input(\"enter the value of a\"))\n",
    "b = int(input(\"enter the value of b\"))   #  here  we  are  taking the  in[put  from the  user]\n",
    "d = add(a,b) \n",
    "print(d)    #  here,  the adding  doesn't return  any  thing  beacuse  the  added  value  of a,b is  \n",
    "                   # stored  in a,b and  d  is  printed  then rthe  value  of  sum of  a,b  is  shown.\n"
   ]
  },
  {
   "cell_type": "code",
   "execution_count": 4,
   "metadata": {},
   "outputs": [],
   "source": [
    "def add(a,b):\n",
    "    c = a+b\n",
    "    d = a*b   # here  we  are  adding  and  storing the  value  in   c\n",
    "    return c,d    #  here  we  are  also,  multiplying  and  storing the  value  in  d.   \n",
    "                    #  the  return  statement  will"
   ]
  },
  {
   "cell_type": "code",
   "execution_count": null,
   "metadata": {},
   "outputs": [],
   "source": []
  },
  {
   "cell_type": "code",
   "execution_count": 6,
   "metadata": {},
   "outputs": [
    {
     "name": "stdout",
     "output_type": "stream",
     "text": [
      "enter the value of a50\n",
      "enter the value of b10\n"
     ]
    }
   ],
   "source": [
    "a = int(input(\"enter the value of a\"))\n",
    "b = int(input(\"enter the value of b\"))   #  here  we  are  taking the  input  from the  user  and then the answer is\n",
    "                                             #  shown to us. \n",
    "e , f = add(a,b)        #  here ,  we  are  assigning the addition value to  new varibale  to e and  multiplication value to f.\n"
   ]
  },
  {
   "cell_type": "code",
   "execution_count": null,
   "metadata": {},
   "outputs": [],
   "source": [
    "# the  functions  are  divided  into  2  types  that  are  built in  functions  and user  defined  functions."
   ]
  },
  {
   "cell_type": "code",
   "execution_count": null,
   "metadata": {},
   "outputs": [],
   "source": []
  },
  {
   "cell_type": "code",
   "execution_count": null,
   "metadata": {},
   "outputs": [],
   "source": []
  },
  {
   "cell_type": "code",
   "execution_count": null,
   "metadata": {
    "collapsed": true
   },
   "outputs": [],
   "source": []
  },
  {
   "cell_type": "code",
   "execution_count": 7,
   "metadata": {},
   "outputs": [
    {
     "name": "stdout",
     "output_type": "stream",
     "text": [
      "absolute value of -20 20\n"
     ]
    }
   ],
   "source": [
    "integer = -\n",
    "print(\"absolute value of -20\" , abs(integer))   #  the  absolute function is  a  user defined  function  which is  used to\n",
    "                                              #  return  the  absolute value of the function."
   ]
  },
  {
   "cell_type": "code",
   "execution_count": 9,
   "metadata": {},
   "outputs": [
    {
     "name": "stdout",
     "output_type": "stream",
     "text": [
      "absolute value of -20.33 20.33\n"
     ]
    }
   ],
   "source": [
    "float = -20.33\n",
    "print(\"absolute value of -20.33\" , abs(float))  # here, the absolute value of the function will return of the  fuction type  float."
   ]
  },
  {
   "cell_type": "markdown",
   "metadata": {},
   "source": [
    "# args and *kwargs"
   ]
  },
  {
   "cell_type": "code",
   "execution_count": 14,
   "metadata": {},
   "outputs": [],
   "source": [
    "def adder(*num):\n",
    "    sum = 0\n",
    "    for n in num:\n",
    "        sum = sum+n\n",
    "                                #  here we  are  using the args function which is used to take  more than 2 numbers . so, that\n",
    "                                # it  will be adding  n  number of  functions using the n  in  numbers.\n",
    "    return sum\n"
   ]
  },
  {
   "cell_type": "code",
   "execution_count": 15,
   "metadata": {},
   "outputs": [
    {
     "data": {
      "text/plain": [
       "27"
      ]
     },
     "execution_count": 15,
     "metadata": {},
     "output_type": "execute_result"
    }
   ],
   "source": [
    "adder(2,3,4,5,6,7)"
   ]
  },
  {
   "cell_type": "code",
   "execution_count": null,
   "metadata": {},
   "outputs": [],
   "source": [
    "kwargs function:  THE  kwargs  function  is  used  ,  whenever we  have  to  pass the  n  number of  key value  pairs ."
   ]
  },
  {
   "cell_type": "code",
   "execution_count": 7,
   "metadata": {},
   "outputs": [],
   "source": [
    "def intro(**data):\n",
    "     for key, value in data.items():\n",
    "        print(\"key is \",key,\":\",\"value is\",value)  #  the  kwargs that is **  is  used  to  store the multiple \n",
    "                                                    # key and value pair that is used to  store the values without  the use of dictionary"
   ]
  },
  {
   "cell_type": "code",
   "execution_count": 8,
   "metadata": {},
   "outputs": [
    {
     "name": "stdout",
     "output_type": "stream",
     "text": [
      "key is  name : value is raviteja\n",
      "key is  qualification : value is mtech\n"
     ]
    }
   ],
   "source": [
    "intro(name = \"raviteja\" , qualification = 'mtech')"
   ]
  },
  {
   "cell_type": "code",
   "execution_count": null,
   "metadata": {},
   "outputs": [],
   "source": []
  },
  {
   "cell_type": "markdown",
   "metadata": {},
   "source": [
    "#  FILE HANDLIG  IN PYTHON"
   ]
  },
  {
   "cell_type": "code",
   "execution_count": null,
   "metadata": {},
   "outputs": [],
   "source": [
    "steps  involved  in file handling in  python:\n",
    "    \n",
    "    1. opening a file to write\n",
    "   2. appending and writing a to a file\n",
    "   3. closing a file"
   ]
  },
  {
   "cell_type": "code",
   "execution_count": null,
   "metadata": {},
   "outputs": [],
   "source": [
    "f = open(filename , mode)  #  it  is open a file  and  mode  is  of  4  types  like read, write,append,create."
   ]
  },
  {
   "cell_type": "code",
   "execution_count": null,
   "metadata": {},
   "outputs": [],
   "source": [
    "FILES CAN BE OPENED IN  VARIOUS MODES LIKE:\n",
    "    r = read\n",
    "    w = write\n",
    "    a = append\n",
    "    x = create\n",
    "    t = text\n",
    "    b = binary"
   ]
  },
  {
   "cell_type": "code",
   "execution_count": 10,
   "metadata": {},
   "outputs": [],
   "source": [
    "fp = open(\"new.txt\" , \"w\")  #  here, we are creating a file, because the file is not in existence. so, a new file was created.\n",
    "                              #  the  file here, we  created have the permission of only  write mode only."
   ]
  },
  {
   "cell_type": "code",
   "execution_count": 11,
   "metadata": {},
   "outputs": [
    {
     "data": {
      "text/plain": [
       "'D:\\\\APPLIED DATA SCIENCE INTERNSHIP'"
      ]
     },
     "execution_count": 11,
     "metadata": {},
     "output_type": "execute_result"
    }
   ],
   "source": [
    "pwd  #  here we  are tracing the path of our file."
   ]
  },
  {
   "cell_type": "code",
   "execution_count": null,
   "metadata": {},
   "outputs": [],
   "source": []
  },
  {
   "cell_type": "code",
   "execution_count": null,
   "metadata": {},
   "outputs": [],
   "source": [
    "fp = open(\"new.txt\",\"w\")\n",
    "for i in range(10):\n",
    "    fp.write(\"smartbridge is a place where you learn  technical skills\")   #  here, we  are  writing  the some text \n",
    "                                                                          # in  the  file  but we  are  not  able to \n",
    "        # see  our  text in  our  file  that is new.txt  file  because  ,  we  have forgotten the basic  step  that is to  close the\n",
    "        # file after   writing  something   in the  file . so   it  is  important that  whenever, we  create the file , we have to \n",
    "        # ensure  that  the  file  is  closed  after  writing is  done  then  only  the  written  statement  that \n",
    "        # we  have  wrote in the file  will be executed successfully  without  any problem  otherwise  the content will  not  be created.\n",
    "        \n",
    "        # AS  here,  we have created  the file and  wrote something  but  not  closed the  file.  so, as a result  the  content\n",
    "        #  that we tend to  write in our  file  will  not  be  created .\n",
    "        "
   ]
  },
  {
   "cell_type": "code",
   "execution_count": 10,
   "metadata": {},
   "outputs": [],
   "source": [
    "fp = open(\"new.txt\",\"w\")     #  here we  are  giving  the permission to  the text  file to  open in the  mode of write.so  that \n",
    "for i in range(10):\n",
    "    fp.write(\"smartbridge is a place to learn technical  \\n\") \n",
    "fp.close()                    #  we  can write  something  that  is useful in  our  text  file.\n",
    "\n",
    "\n",
    "\n",
    "#  here the  content  that  we  try  to  write in the file  was successfully written in the text  file because here,\n",
    "# we have closed the file.\n",
    "\n",
    "#   the content that  we  wrote in the file  was written  in the file 10 times  because we  have written in the code the\n",
    "#"
   ]
  },
  {
   "cell_type": "code",
   "execution_count": 11,
   "metadata": {},
   "outputs": [
    {
     "data": {
      "text/plain": [
       "'D:\\\\APPLIED DATA SCIENCE INTERNSHIP'"
      ]
     },
     "execution_count": 11,
     "metadata": {},
     "output_type": "execute_result"
    }
   ],
   "source": [
    "pwd"
   ]
  },
  {
   "cell_type": "code",
   "execution_count": 13,
   "metadata": {},
   "outputs": [],
   "source": [
    "fp = open(\"new.text\",\"w\")\n",
    "for i in range(10):\n",
    "    fp.write(\"skills \\n\")\n",
    "fp.close() # if  we  try to  re  write  the  file  in  this  way  that  is  in   write  mode  only  to  the\n",
    "            #  previous  one  then  all  the  previous  data  will  be  erased  and only  the  newly  written data  will\n",
    "        # be  shown."
   ]
  },
  {
   "cell_type": "code",
   "execution_count": 15,
   "metadata": {},
   "outputs": [],
   "source": [
    "fp = open(\"new.txt\" ,\"a\")\n",
    "for i in range(10):\n",
    "    fp.write(\"skills \\n\")\n",
    "fp.close() #  so,  as  to  add  the  new  data  as  a extra  to  the  previous  data  then  we  have  to\n",
    "    # use  the  append  mode  then  the previous data will   not be erased  and  the present  data  also  will  be \n",
    "   #  present.\n",
    "\n",
    "#  so,  by  using  the  append  method  we can add the  extra  content  to  the  previous  content  without  \n",
    "# erasing  the  previous one"
   ]
  },
  {
   "cell_type": "code",
   "execution_count": 24,
   "metadata": {},
   "outputs": [
    {
     "name": "stdout",
     "output_type": "stream",
     "text": [
      "smartbridge is a place to learn technical  \n",
      "smartbridge is a place to learn technical  \n",
      "smartbridge is a place to learn technical  \n",
      "smartbridge is a place to learn technical  \n",
      "smartbridge is a place to learn technical  \n",
      "smartbridge is a place to learn technical  \n",
      "smartbridge is a place to learn technical  \n",
      "smartbridge is a place to learn technical  \n",
      "smartbridge is a place to learn technical  \n",
      "smartbridge is a place to learn technical  \n",
      "skills /nskills /nskills /nskills /nskills /nskills /nskills /nskills /nskills /nskills /nskills \n",
      "skills \n",
      "skills \n",
      "skills \n",
      "skills \n",
      "skills \n",
      "skills \n",
      "skills \n",
      "skills \n",
      "skills \n",
      "60the addition of  a  and b is60 \n",
      "\n"
     ]
    }
   ],
   "source": [
    "fp = open(\"new.txt\" ,\"r\")\n",
    "a = fp.read()\n",
    "print(a)\n",
    "fp.close()   #  so,  here we  are  opening  the  file  in  the  read  mode  and  reading  all the  contents  of  the  files \n",
    "               #  using  read command "
   ]
  },
  {
   "cell_type": "code",
   "execution_count": null,
   "metadata": {},
   "outputs": [],
   "source": []
  },
  {
   "cell_type": "code",
   "execution_count": 18,
   "metadata": {},
   "outputs": [
    {
     "name": "stdout",
     "output_type": "stream",
     "text": [
      "['smartbridge is a place to learn technical  \\n', 'smartbridge is a place to learn technical  \\n', 'smartbridge is a place to learn technical  \\n', 'smartbridge is a place to learn technical  \\n', 'smartbridge is a place to learn technical  \\n', 'smartbridge is a place to learn technical  \\n', 'smartbridge is a place to learn technical  \\n', 'smartbridge is a place to learn technical  \\n', 'smartbridge is a place to learn technical  \\n', 'smartbridge is a place to learn technical  \\n', 'skills /nskills /nskills /nskills /nskills /nskills /nskills /nskills /nskills /nskills /nskills \\n', 'skills \\n', 'skills \\n', 'skills \\n', 'skills \\n', 'skills \\n', 'skills \\n', 'skills \\n', 'skills \\n', 'skills \\n']\n"
     ]
    }
   ],
   "source": [
    "fp = open(\"new.txt\" ,\"r\")\n",
    "a = fp.readlines()\n",
    "print(a)\n",
    "fp.close()   #  so,  here we  are  opening  the  file  in  the  readlines  mode  and  reading  all the  contents  of  the  files \n",
    "               #  here,  the  readlines is  used to read  all  the  lines in the  form of a list."
   ]
  },
  {
   "cell_type": "code",
   "execution_count": null,
   "metadata": {},
   "outputs": [],
   "source": []
  },
  {
   "cell_type": "code",
   "execution_count": 19,
   "metadata": {},
   "outputs": [
    {
     "name": "stdout",
     "output_type": "stream",
     "text": [
      "['smartbridge is a place to learn technical  \\n']\n"
     ]
    }
   ],
   "source": [
    "fp = open(\"new.txt\" ,\"r\")\n",
    "a = fp.readlines(5)\n",
    "print(a)\n",
    "fp.close()   #  so,  we  know  that the readlines  command is used   to read the lines  in  the  forem of  a list\n",
    "     #  so,  here in readlines  we can give the  parameter any  linenumber to  read  only  that  specific  line  the text file."
   ]
  },
  {
   "cell_type": "code",
   "execution_count": 20,
   "metadata": {},
   "outputs": [
    {
     "name": "stdout",
     "output_type": "stream",
     "text": [
      "enter the value of a20\n",
      "enter the value of b40\n"
     ]
    },
    {
     "ename": "TypeError",
     "evalue": "write() argument must be str, not int",
     "output_type": "error",
     "traceback": [
      "\u001b[1;31m---------------------------------------------------------------------------\u001b[0m",
      "\u001b[1;31mTypeError\u001b[0m                                 Traceback (most recent call last)",
      "\u001b[1;32m<ipython-input-20-80f4b9cec34f>\u001b[0m in \u001b[0;36m<module>\u001b[1;34m\u001b[0m\n\u001b[0;32m      2\u001b[0m \u001b[0ma\u001b[0m \u001b[1;33m=\u001b[0m \u001b[0mint\u001b[0m\u001b[1;33m(\u001b[0m\u001b[0minput\u001b[0m\u001b[1;33m(\u001b[0m\u001b[1;34m\"enter the value of a\"\u001b[0m\u001b[1;33m)\u001b[0m\u001b[1;33m)\u001b[0m\u001b[1;33m\u001b[0m\u001b[1;33m\u001b[0m\u001b[0m\n\u001b[0;32m      3\u001b[0m \u001b[0mb\u001b[0m \u001b[1;33m=\u001b[0m \u001b[0mint\u001b[0m\u001b[1;33m(\u001b[0m\u001b[0minput\u001b[0m\u001b[1;33m(\u001b[0m\u001b[1;34m\"enter the value of b\"\u001b[0m\u001b[1;33m)\u001b[0m\u001b[1;33m)\u001b[0m\u001b[1;33m\u001b[0m\u001b[1;33m\u001b[0m\u001b[0m\n\u001b[1;32m----> 4\u001b[1;33m \u001b[0mfp\u001b[0m\u001b[1;33m.\u001b[0m\u001b[0mwrite\u001b[0m\u001b[1;33m(\u001b[0m\u001b[0ma\u001b[0m\u001b[1;33m+\u001b[0m\u001b[0mb\u001b[0m\u001b[1;33m)\u001b[0m\u001b[1;33m\u001b[0m\u001b[1;33m\u001b[0m\u001b[0m\n\u001b[0m\u001b[0;32m      5\u001b[0m \u001b[0mfp\u001b[0m\u001b[1;33m.\u001b[0m\u001b[0mclose\u001b[0m\u001b[1;33m(\u001b[0m\u001b[1;33m)\u001b[0m\u001b[1;33m\u001b[0m\u001b[1;33m\u001b[0m\u001b[0m\n",
      "\u001b[1;31mTypeError\u001b[0m: write() argument must be str, not int"
     ]
    }
   ],
   "source": [
    "fp = open(\"new.txt\",\"a\")\n",
    "a = int(input(\"enter the value of a\"))\n",
    "b = int(input(\"enter the value of b\"))\n",
    "fp.write(a+b)\n",
    "fp.close()  #  here ,  we  can see  that  code  was  throwing  the  argument  write is  in int  form  but  it  should be str form"
   ]
  },
  {
   "cell_type": "code",
   "execution_count": null,
   "metadata": {},
   "outputs": [],
   "source": []
  },
  {
   "cell_type": "code",
   "execution_count": 21,
   "metadata": {},
   "outputs": [
    {
     "name": "stdout",
     "output_type": "stream",
     "text": [
      "enter the value of a20\n",
      "enter the value of b40\n"
     ]
    }
   ],
   "source": [
    "fp = open(\"new.txt\",\"a\")\n",
    "a = int(input(\"enter the value of a\"))\n",
    "b = int(input(\"enter the value of b\"))\n",
    "fp.write(str(a+b))\n",
    "fp.close()   #  here  we have  corrected  the  previous  error  and  the  sum  of value  will  be  stored  in  our  text  file."
   ]
  },
  {
   "cell_type": "code",
   "execution_count": null,
   "metadata": {},
   "outputs": [],
   "source": []
  },
  {
   "cell_type": "code",
   "execution_count": 22,
   "metadata": {},
   "outputs": [
    {
     "name": "stdout",
     "output_type": "stream",
     "text": [
      "enter the value of a20\n",
      "enter the value of b40\n"
     ]
    }
   ],
   "source": [
    "fp = open(\"new.txt\",\"a\")\n",
    "a = int(input(\"enter the value of a\"))\n",
    "b = int(input(\"enter the value of b\"))\n",
    "s  = \"the addition of  a  and b is\"+str(a+b)+ \" \\n\"\n",
    "fp.write(s)\n",
    "fp.close()   #  here  we have  corrected  the  previous  error  and  the  sum  of value  will  be  stored  in  our  text  file."
   ]
  },
  {
   "cell_type": "markdown",
   "metadata": {},
   "source": [
    "# EXCEPTION  HANDLING:"
   ]
  },
  {
   "cell_type": "code",
   "execution_count": null,
   "metadata": {},
   "outputs": [],
   "source": [
    "an  exception is  an error that happens  during the execution of  the program.  so,  whenever  there  is  an error  while  \n",
    "writing the  code  in  the  python  python  generates  an  exception that could be handled .  so,  it  basically  prevents \n",
    "the  program  from  the crash.\n",
    "\n",
    "   REASON  FOR  USING  THE  EXCEPTIONS:\n",
    "        \n",
    "        manytimes ,  there  are  valid  and  invalid  exceptions when  you think  that  the code  generates the error \n",
    "        then  we  use  the  exception handling technique to  solve this  error  problem  in  the  code."
   ]
  },
  {
   "cell_type": "code",
   "execution_count": 25,
   "metadata": {},
   "outputs": [
    {
     "name": "stdout",
     "output_type": "stream",
     "text": [
      "enter the value of a20\n",
      "enter the value of b0\n"
     ]
    },
    {
     "ename": "ZeroDivisionError",
     "evalue": "division by zero",
     "output_type": "error",
     "traceback": [
      "\u001b[1;31m---------------------------------------------------------------------------\u001b[0m",
      "\u001b[1;31mZeroDivisionError\u001b[0m                         Traceback (most recent call last)",
      "\u001b[1;32m<ipython-input-25-93a4a91c17dc>\u001b[0m in \u001b[0;36m<module>\u001b[1;34m\u001b[0m\n\u001b[0;32m      1\u001b[0m \u001b[0ma\u001b[0m \u001b[1;33m=\u001b[0m  \u001b[0mint\u001b[0m\u001b[1;33m(\u001b[0m\u001b[0minput\u001b[0m\u001b[1;33m(\u001b[0m\u001b[1;34m\"enter the value of a\"\u001b[0m\u001b[1;33m)\u001b[0m\u001b[1;33m)\u001b[0m\u001b[1;33m\u001b[0m\u001b[1;33m\u001b[0m\u001b[0m\n\u001b[0;32m      2\u001b[0m \u001b[0mb\u001b[0m \u001b[1;33m=\u001b[0m \u001b[0mint\u001b[0m\u001b[1;33m(\u001b[0m\u001b[0minput\u001b[0m\u001b[1;33m(\u001b[0m\u001b[1;34m\"enter the value of b\"\u001b[0m\u001b[1;33m)\u001b[0m\u001b[1;33m)\u001b[0m\u001b[1;33m\u001b[0m\u001b[1;33m\u001b[0m\u001b[0m\n\u001b[1;32m----> 3\u001b[1;33m \u001b[0mc\u001b[0m \u001b[1;33m=\u001b[0m \u001b[0ma\u001b[0m\u001b[1;33m/\u001b[0m\u001b[0mb\u001b[0m\u001b[1;33m\u001b[0m\u001b[1;33m\u001b[0m\u001b[0m\n\u001b[0m\u001b[0;32m      4\u001b[0m \u001b[0mprint\u001b[0m\u001b[1;33m(\u001b[0m\u001b[0mc\u001b[0m\u001b[1;33m)\u001b[0m\u001b[1;33m\u001b[0m\u001b[1;33m\u001b[0m\u001b[0m\n",
      "\u001b[1;31mZeroDivisionError\u001b[0m: division by zero"
     ]
    }
   ],
   "source": [
    "a =  int(input(\"enter the value of a\"))\n",
    "b = int(input(\"enter the value of b\"))\n",
    "c = a/b\n",
    "print(c)  #  here  we  have  generated  the  error  that  is  zero  division  error.  so,  in  programming  the\n",
    "               #  handling  of  errors  is an  important part  to  encounter  the  errors  and  get  the  desired  output."
   ]
  },
  {
   "cell_type": "code",
   "execution_count": null,
   "metadata": {},
   "outputs": [],
   "source": []
  },
  {
   "cell_type": "code",
   "execution_count": null,
   "metadata": {},
   "outputs": [],
   "source": []
  },
  {
   "cell_type": "code",
   "execution_count": 25,
   "metadata": {},
   "outputs": [
    {
     "name": "stdout",
     "output_type": "stream",
     "text": [
      "enter the value of a20\n",
      "enter the value of b0\n"
     ]
    },
    {
     "ename": "ZeroDivisionError",
     "evalue": "division by zero",
     "output_type": "error",
     "traceback": [
      "\u001b[1;31m---------------------------------------------------------------------------\u001b[0m",
      "\u001b[1;31mZeroDivisionError\u001b[0m                         Traceback (most recent call last)",
      "\u001b[1;32m<ipython-input-25-93a4a91c17dc>\u001b[0m in \u001b[0;36m<module>\u001b[1;34m\u001b[0m\n\u001b[0;32m      1\u001b[0m \u001b[0ma\u001b[0m \u001b[1;33m=\u001b[0m  \u001b[0mint\u001b[0m\u001b[1;33m(\u001b[0m\u001b[0minput\u001b[0m\u001b[1;33m(\u001b[0m\u001b[1;34m\"enter the value of a\"\u001b[0m\u001b[1;33m)\u001b[0m\u001b[1;33m)\u001b[0m\u001b[1;33m\u001b[0m\u001b[1;33m\u001b[0m\u001b[0m\n\u001b[0;32m      2\u001b[0m \u001b[0mb\u001b[0m \u001b[1;33m=\u001b[0m \u001b[0mint\u001b[0m\u001b[1;33m(\u001b[0m\u001b[0minput\u001b[0m\u001b[1;33m(\u001b[0m\u001b[1;34m\"enter the value of b\"\u001b[0m\u001b[1;33m)\u001b[0m\u001b[1;33m)\u001b[0m\u001b[1;33m\u001b[0m\u001b[1;33m\u001b[0m\u001b[0m\n\u001b[1;32m----> 3\u001b[1;33m \u001b[0mc\u001b[0m \u001b[1;33m=\u001b[0m \u001b[0ma\u001b[0m\u001b[1;33m/\u001b[0m\u001b[0mb\u001b[0m\u001b[1;33m\u001b[0m\u001b[1;33m\u001b[0m\u001b[0m\n\u001b[0m\u001b[0;32m      4\u001b[0m \u001b[0mprint\u001b[0m\u001b[1;33m(\u001b[0m\u001b[0mc\u001b[0m\u001b[1;33m)\u001b[0m\u001b[1;33m\u001b[0m\u001b[1;33m\u001b[0m\u001b[0m\n",
      "\u001b[1;31mZeroDivisionError\u001b[0m: division by zero"
     ]
    }
   ],
   "source": [
    "a =  int(input(\"enter the value of a\"))\n",
    "b = int(input(\"enter the value of b\"))\n",
    "c = a/b  #  here,  it  is  the  critical  statement  the  error  has  raised  here.  or  the  possibility  of  error  raising \n",
    "         #  statement  will  come under the umbrella of  critical  statements  where there is  a  chance of  raising the error\n",
    "print(c)  "
   ]
  },
  {
   "cell_type": "markdown",
   "metadata": {},
   "source": [
    "# EXCEPTION HANDLING  WITH THE  USAGE OF  TRY BLOCK:"
   ]
  },
  {
   "cell_type": "code",
   "execution_count": 27,
   "metadata": {},
   "outputs": [
    {
     "name": "stdout",
     "output_type": "stream",
     "text": [
      "enter the value of a12\n",
      "enter the value of b5\n",
      "2.4\n",
      "bye\n"
     ]
    }
   ],
   "source": [
    "a =  int(input(\"enter the value of a\"))\n",
    "b = int(input(\"enter the value of b\"))\n",
    "try:\n",
    "    c = a/b  #  critical  statement.\n",
    "    print(c)  \n",
    "except:\n",
    "    print(\"their is an error in your program\")\n",
    "print(\"bye\")                   # here,  the  try  block is  executed because it  didnt  have  any error"
   ]
  },
  {
   "cell_type": "code",
   "execution_count": null,
   "metadata": {},
   "outputs": [],
   "source": []
  },
  {
   "cell_type": "code",
   "execution_count": 28,
   "metadata": {},
   "outputs": [
    {
     "name": "stdout",
     "output_type": "stream",
     "text": [
      "enter the value of a12\n",
      "enter the value of b0\n",
      "their is an error in your program\n",
      "bye\n"
     ]
    }
   ],
   "source": [
    "a =  int(input(\"enter the value of a\"))\n",
    "b = int(input(\"enter the value of b\"))\n",
    "try:\n",
    "    c = a/b  #  critical  statement.\n",
    "    print(c)  \n",
    "except:\n",
    "    print(\"their is an error in your program\")\n",
    "print(\"bye\")                   # here,  the  except  block is  executed because there is an  error in the try block.\n",
    "             #  so, here in this  program we have handled the error in the program by using the try and  except  block and \n",
    "    #  the  program  during  its  execution it  didn't   stopped  abruptly .  so,  we  have  successfully handled the  error in the  code"
   ]
  },
  {
   "cell_type": "code",
   "execution_count": null,
   "metadata": {},
   "outputs": [],
   "source": []
  },
  {
   "cell_type": "code",
   "execution_count": 29,
   "metadata": {},
   "outputs": [
    {
     "name": "stdout",
     "output_type": "stream",
     "text": [
      "enter the value of a10\n",
      "enter the value of b0\n",
      "division by zero\n",
      "bye\n"
     ]
    }
   ],
   "source": [
    "a =  int(input(\"enter the value of a\"))\n",
    "b = int(input(\"enter the value of b\"))\n",
    "try:\n",
    "    c = a/b  #  critical  statement.\n",
    "    print(c)  \n",
    "except Exception as e:\n",
    "    print(e)\n",
    "print(\"bye\")          #  here  , we  have  written the  code with try  and  exception as  e which  will print the type  of error\n",
    "             # that  we  are  getting  when we  are executing the critical  statements."
   ]
  },
  {
   "cell_type": "code",
   "execution_count": null,
   "metadata": {},
   "outputs": [],
   "source": []
  },
  {
   "cell_type": "code",
   "execution_count": 30,
   "metadata": {},
   "outputs": [
    {
     "name": "stdout",
     "output_type": "stream",
     "text": [
      "enter the value of ae\n"
     ]
    },
    {
     "ename": "ValueError",
     "evalue": "invalid literal for int() with base 10: 'e'",
     "output_type": "error",
     "traceback": [
      "\u001b[1;31m---------------------------------------------------------------------------\u001b[0m",
      "\u001b[1;31mValueError\u001b[0m                                Traceback (most recent call last)",
      "\u001b[1;32m<ipython-input-30-370ac16d621f>\u001b[0m in \u001b[0;36m<module>\u001b[1;34m\u001b[0m\n\u001b[1;32m----> 1\u001b[1;33m \u001b[0ma\u001b[0m \u001b[1;33m=\u001b[0m  \u001b[0mint\u001b[0m\u001b[1;33m(\u001b[0m\u001b[0minput\u001b[0m\u001b[1;33m(\u001b[0m\u001b[1;34m\"enter the value of a\"\u001b[0m\u001b[1;33m)\u001b[0m\u001b[1;33m)\u001b[0m\u001b[1;33m\u001b[0m\u001b[1;33m\u001b[0m\u001b[0m\n\u001b[0m\u001b[0;32m      2\u001b[0m \u001b[0mb\u001b[0m \u001b[1;33m=\u001b[0m \u001b[0mint\u001b[0m\u001b[1;33m(\u001b[0m\u001b[0minput\u001b[0m\u001b[1;33m(\u001b[0m\u001b[1;34m\"enter the value of b\"\u001b[0m\u001b[1;33m)\u001b[0m\u001b[1;33m)\u001b[0m\u001b[1;33m\u001b[0m\u001b[1;33m\u001b[0m\u001b[0m\n\u001b[0;32m      3\u001b[0m \u001b[1;32mtry\u001b[0m\u001b[1;33m:\u001b[0m\u001b[1;33m\u001b[0m\u001b[1;33m\u001b[0m\u001b[0m\n\u001b[0;32m      4\u001b[0m     \u001b[0mc\u001b[0m \u001b[1;33m=\u001b[0m \u001b[0ma\u001b[0m\u001b[1;33m/\u001b[0m\u001b[0mb\u001b[0m  \u001b[1;31m#  critical  statement.\u001b[0m\u001b[1;33m\u001b[0m\u001b[1;33m\u001b[0m\u001b[0m\n\u001b[0;32m      5\u001b[0m     \u001b[0mprint\u001b[0m\u001b[1;33m(\u001b[0m\u001b[0mc\u001b[0m\u001b[1;33m)\u001b[0m\u001b[1;33m\u001b[0m\u001b[1;33m\u001b[0m\u001b[0m\n",
      "\u001b[1;31mValueError\u001b[0m: invalid literal for int() with base 10: 'e'"
     ]
    }
   ],
   "source": [
    "a =  int(input(\"enter the value of a\"))  #  critical statement\n",
    "b = int(input(\"enter the value of b\"))\n",
    "try:\n",
    "    c = a/b  #  critical  statement.\n",
    "    print(c)  \n",
    "except:\n",
    "    print(\"their is an error in your program\")\n",
    "print(\"bye\")                   # here ,  it  will show  the value  error  because instead  of  the giving the  int  value  in a \n",
    "                  #   we have  given the  string that is the  reason.so ,  the a that   is  the  first  line  also  \n",
    "    # became the  critical  statemnet  because  it  is  also   throwing the  error."
   ]
  },
  {
   "cell_type": "code",
   "execution_count": null,
   "metadata": {},
   "outputs": [],
   "source": []
  },
  {
   "cell_type": "code",
   "execution_count": 32,
   "metadata": {},
   "outputs": [
    {
     "name": "stdout",
     "output_type": "stream",
     "text": [
      "enter the value of a12\n",
      "enter the value of b0\n",
      "division by zero\n",
      "bye\n"
     ]
    }
   ],
   "source": [
    "\n",
    "try:\n",
    "    a =  int(input(\"enter the value of a\"))\n",
    "    b = int(input(\"enter the value of b\"))\n",
    "    c = a/b  #  critical  statement.\n",
    "    print(c)  \n",
    "except Exception as e:\n",
    "    print(e)\n",
    "print(\"bye\")           #  in the  before  line  of  code  we have  seen  that  the  a is  the  critical  statement and  \n",
    "# here we  are putting  the a  and  b  in the  try  block to  handle  the  exception as  there  is  a possibility  of  \n",
    "# the  error  in  the  code.\n",
    "\n",
    "# here  we  have  successfully  handled the error  by  puttting  the  critical statements in the  try  bock  and we can also \n",
    "# see  the type  of  error  in our  code"
   ]
  },
  {
   "cell_type": "code",
   "execution_count": null,
   "metadata": {},
   "outputs": [],
   "source": []
  },
  {
   "cell_type": "code",
   "execution_count": 33,
   "metadata": {},
   "outputs": [
    {
     "name": "stdout",
     "output_type": "stream",
     "text": [
      "enter the value of ae\n",
      "invalid literal for int() with base 10: 'e'\n",
      "bye\n"
     ]
    }
   ],
   "source": [
    "\n",
    "try:\n",
    "    a =  int(input(\"enter the value of a\"))\n",
    "    print(\"hello\")\n",
    "    b = int(input(\"enter the value of b\"))\n",
    "    c = a/b  #  critical  statement.\n",
    "    print(c)  \n",
    "except Exception as e:\n",
    "    print(e)\n",
    "print(\"bye\")     #  here ,  when we  alter  the  code  with  the  a  down with the  print  function  then the  code \n",
    "                 # is  not   going  into  the  next  statements  of  blocks . \n",
    "     so,  we  try  to    avoid  this   problem  by  giving  try  and  except   block  for  every   block  of  code \n"
   ]
  },
  {
   "cell_type": "code",
   "execution_count": null,
   "metadata": {},
   "outputs": [],
   "source": []
  },
  {
   "cell_type": "code",
   "execution_count": 1,
   "metadata": {},
   "outputs": [
    {
     "name": "stdout",
     "output_type": "stream",
     "text": [
      "enter the value of a20\n",
      "hello\n",
      "enter the value of b10\n",
      "wow\n",
      "2.0\n",
      "bye\n"
     ]
    }
   ],
   "source": [
    "\n",
    "try:\n",
    "    a =  int(input(\"enter the value of a\"))  #  critical  statements\n",
    "    print(\"hello\")\n",
    "    b = int(input(\"enter the value of b\"))  #  critical statements.\n",
    "except ValueError:\n",
    "    print(\"cannot  convert the  string to  integer\")\n",
    "    \n",
    "    print(\"hey\")\n",
    "try:\n",
    "    c = a/b    #  critical statements\n",
    "    print(\"wow\")\n",
    "    print(c)  \n",
    "except ZeroDivisionError:   \n",
    "    print(\"you cannot divide a number  with zero\")\n",
    "                                                    #  here,  in  this  program there  is  no  error. so, it  will b  executed \n",
    "                             # without  any  error. here,  we  can  observe  that  the  we  had  given except  block  for  every  \n",
    "                              #  critical statements  to  avoid  unnecessary  errors while  executing  the  code.\n",
    "print(\"bye\")           "
   ]
  },
  {
   "cell_type": "code",
   "execution_count": null,
   "metadata": {},
   "outputs": [],
   "source": []
  },
  {
   "cell_type": "code",
   "execution_count": 3,
   "metadata": {},
   "outputs": [
    {
     "name": "stdout",
     "output_type": "stream",
     "text": [
      "enter the value of ae\n",
      "cannot  convert the  string to  integer\n",
      "hey\n",
      "wow\n",
      "2.0\n",
      "bye\n"
     ]
    }
   ],
   "source": [
    "\n",
    "try:\n",
    "    a =  int(input(\"enter the value of a\"))  #  critical  statements\n",
    "    print(\"hello\")\n",
    "    b = int(input(\"enter the value of b\"))  #  critical statements.\n",
    "except ValueError:\n",
    "    print(\"cannot  convert the  string to  integer\")\n",
    "    \n",
    "    print(\"hey\")\n",
    "try:\n",
    "    c = a/b    #  critical statements\n",
    "    print(\"wow\")\n",
    "    print(c)  \n",
    "except ZeroDivisionError:   \n",
    "    print(\"you cannot divide a number  with zero\")\n",
    "                                                    # here  there  is  an  error  in the first  a  input  block. so, the  except\n",
    "                        #  block  of the  try had  excuted  without   any  error.\n",
    "print(\"bye\")           "
   ]
  },
  {
   "cell_type": "code",
   "execution_count": null,
   "metadata": {},
   "outputs": [],
   "source": []
  },
  {
   "cell_type": "code",
   "execution_count": 4,
   "metadata": {},
   "outputs": [
    {
     "name": "stdout",
     "output_type": "stream",
     "text": [
      "enter the value of a10\n",
      "hello\n",
      "enter the value of b0\n",
      "you cannot divide a number  with zero\n",
      "bye\n"
     ]
    }
   ],
   "source": [
    "\n",
    "try:\n",
    "    a =  int(input(\"enter the value of a\"))  #  critical  statements\n",
    "    print(\"hello\")\n",
    "    b = int(input(\"enter the value of b\"))  #  critical statements.\n",
    "except ValueError:\n",
    "    print(\"cannot  convert the  string to  integer\")\n",
    "    \n",
    "    print(\"hey\")\n",
    "try:\n",
    "    c = a/b    #  critical statements\n",
    "    print(\"wow\")\n",
    "    print(c)  \n",
    "except ZeroDivisionError:                             # here ,  there  is  an  error   2nd  try  block,  then  the  except  \n",
    "                                            # block  has  excuted\n",
    "    print(\"you cannot divide a number  with zero\")\n",
    "                                                \n",
    "print(\"bye\")           "
   ]
  },
  {
   "cell_type": "code",
   "execution_count": null,
   "metadata": {},
   "outputs": [],
   "source": []
  },
  {
   "cell_type": "code",
   "execution_count": 5,
   "metadata": {},
   "outputs": [
    {
     "name": "stdout",
     "output_type": "stream",
     "text": [
      "enter the value of a12\n",
      "hello\n",
      "enter the value of b12\n",
      "wow\n",
      "1.0\n"
     ]
    },
    {
     "ename": "TypeError",
     "evalue": "unsupported operand type(s) for +: 'int' and 'str'",
     "output_type": "error",
     "traceback": [
      "\u001b[1;31m---------------------------------------------------------------------------\u001b[0m",
      "\u001b[1;31mTypeError\u001b[0m                                 Traceback (most recent call last)",
      "\u001b[1;32m<ipython-input-5-ed15b21cd6f5>\u001b[0m in \u001b[0;36m<module>\u001b[1;34m\u001b[0m\n\u001b[0;32m     15\u001b[0m \u001b[0md\u001b[0m \u001b[1;33m=\u001b[0m \u001b[1;36m10\u001b[0m\u001b[1;33m\u001b[0m\u001b[1;33m\u001b[0m\u001b[0m\n\u001b[0;32m     16\u001b[0m \u001b[0me\u001b[0m \u001b[1;33m=\u001b[0m \u001b[1;34m'a'\u001b[0m\u001b[1;33m\u001b[0m\u001b[1;33m\u001b[0m\u001b[0m\n\u001b[1;32m---> 17\u001b[1;33m \u001b[0mf\u001b[0m \u001b[1;33m=\u001b[0m \u001b[0md\u001b[0m\u001b[1;33m+\u001b[0m\u001b[0me\u001b[0m\u001b[1;33m\u001b[0m\u001b[1;33m\u001b[0m\u001b[0m\n\u001b[0m\u001b[0;32m     18\u001b[0m \u001b[0mprint\u001b[0m\u001b[1;33m(\u001b[0m\u001b[0md\u001b[0m\u001b[1;33m)\u001b[0m\u001b[1;33m\u001b[0m\u001b[1;33m\u001b[0m\u001b[0m\n\u001b[0;32m     19\u001b[0m \u001b[1;33m\u001b[0m\u001b[0m\n",
      "\u001b[1;31mTypeError\u001b[0m: unsupported operand type(s) for +: 'int' and 'str'"
     ]
    }
   ],
   "source": [
    "\n",
    "try:\n",
    "    a =  int(input(\"enter the value of a\"))  #  critical  statements\n",
    "    print(\"hello\")\n",
    "    b = int(input(\"enter the value of b\"))  #  critical statements.\n",
    "except ValueError:\n",
    "    print(\"cannot  convert the  string to  integer\")\n",
    "    \n",
    "    print(\"hey\")\n",
    "try:\n",
    "    c = a/b    #  critical statements\n",
    "    print(\"wow\")\n",
    "    print(c)  \n",
    "except ZeroDivisionError:                           \n",
    "    print(\"you cannot divide a number  with zero\")\n",
    "d = 10\n",
    "e = 'a'\n",
    "f = d+e   #  so, we  are  treating this  statement  as  a  critical  statement because  the  error  was  generated as type\n",
    "print(d)  #  errot  that is  string  and integer  cannot  be  added.\n",
    "                                                \n",
    "print(\"bye\")           "
   ]
  },
  {
   "cell_type": "code",
   "execution_count": null,
   "metadata": {},
   "outputs": [],
   "source": []
  },
  {
   "cell_type": "code",
   "execution_count": 6,
   "metadata": {},
   "outputs": [
    {
     "name": "stdout",
     "output_type": "stream",
     "text": [
      "enter the value of a12\n",
      "hello\n",
      "enter the value of b12\n",
      "wow\n",
      "1.0\n",
      "cannot add integer  and  string\n",
      "bye\n"
     ]
    }
   ],
   "source": [
    "\n",
    "try:\n",
    "    a =  int(input(\"enter the value of a\"))  #  critical  statements\n",
    "    print(\"hello\")\n",
    "    b = int(input(\"enter the value of b\"))  #  critical statements.\n",
    "except ValueError:\n",
    "    print(\"cannot  convert the  string to  integer\")\n",
    "    \n",
    "    print(\"hey\")\n",
    "try:\n",
    "    c = a/b    #  critical statements\n",
    "    print(\"wow\")\n",
    "    print(c)  \n",
    "except ZeroDivisionError:                           \n",
    "    print(\"you cannot divide a number  with zero\")\n",
    "d = 10\n",
    "e = 'a'\n",
    "try: \n",
    "    f = d+e\n",
    "    print(f)\n",
    "except TypeError:\n",
    "    print(\"cannot add integer  and  string\")\n",
    "    #  as,  we  have  seen in the  previous  code  since  this  statement  is  a   critical statement  then we\n",
    "                         # are  trying  to  solve this  problem of  error  of  the  critical  statement  by  putting  the  \n",
    "                 # critical  statement  in the try  block  and  trying  to  exceuting  the  code  without  any  error.\n",
    "\n",
    "                                                \n",
    "print(\"bye\")           "
   ]
  },
  {
   "cell_type": "code",
   "execution_count": null,
   "metadata": {},
   "outputs": [],
   "source": [
    "#  in this  way  in  a  given  programmming  code  to  handle  the  possible  errors  in  the  critical  statements  ,  we\n",
    " can given  N  number  of try  anad except  blocks  and  execute  the  code  without  any  errors."
   ]
  },
  {
   "cell_type": "markdown",
   "metadata": {},
   "source": [
    "# FINALLY  KEYWORD  IN ERROR  HANDLING:"
   ]
  },
  {
   "cell_type": "code",
   "execution_count": 9,
   "metadata": {},
   "outputs": [],
   "source": [
    "try:\n",
    "    f = open(\"new.txt\")\n",
    "finally:\n",
    "    f.close()"
   ]
  },
  {
   "cell_type": "code",
   "execution_count": null,
   "metadata": {},
   "outputs": [],
   "source": []
  },
  {
   "cell_type": "markdown",
   "metadata": {},
   "source": [
    "#  OBJECT  ORIENTED PROGRAMMING  LANGUAGE (OOPS)"
   ]
  },
  {
   "cell_type": "markdown",
   "metadata": {},
   "source": [
    "major  or  crucuial  or  important OOP'S  concepts  include:\n",
    "\n"
   ]
  },
  {
   "cell_type": "markdown",
   "metadata": {},
   "source": [
    "# 1.  OBJECTS:"
   ]
  },
  {
   "cell_type": "code",
   "execution_count": null,
   "metadata": {},
   "outputs": [],
   "source": [
    "example  of  properries  of  objects i.e,  \n",
    "\n",
    "1.attributes: tall, name, qualification, fair.\n",
    "    \n",
    "2.behaviour: dances, talks, sings  etc."
   ]
  },
  {
   "cell_type": "markdown",
   "metadata": {},
   "source": [
    "#  CREATING  CLASSES AND  OBJECTS IN  PYTHON:"
   ]
  },
  {
   "cell_type": "code",
   "execution_count": 10,
   "metadata": {},
   "outputs": [],
   "source": [
    "class computer:\n",
    "    \n",
    "    def config(self):\n",
    "        print(\"8 gb , 1 tb harddisk , i5\")   #  here,  we  are  creating the class  computer  and  under  the  class \n",
    "        #   of  computer   we   are  giving  or  defining  the  attributes   or  behaviour  of  the  objects."
   ]
  },
  {
   "cell_type": "code",
   "execution_count": 11,
   "metadata": {},
   "outputs": [
    {
     "name": "stdout",
     "output_type": "stream",
     "text": [
      "8 gb , 1 tb harddisk , i5\n"
     ]
    }
   ],
   "source": [
    "comp = computer()\n",
    "\n",
    "comp.config()  #   here,  we are  trying  to  create  the  object  under  the  class  computer  which the class  has  created\n",
    "                 # in the  previous  code.  so,  here  we  have succesfully  created the object  referring to  the  previous class."
   ]
  },
  {
   "cell_type": "code",
   "execution_count": 12,
   "metadata": {},
   "outputs": [
    {
     "data": {
      "text/plain": [
       "__main__.computer"
      ]
     },
     "execution_count": 12,
     "metadata": {},
     "output_type": "execute_result"
    }
   ],
   "source": [
    "type(comp) #  here,  we  can check  that the  object that  has  been  created has  been comes  under the  class  the  type \n",
    "              #  of this  object is  main.  class name  because  the  object  is  defined  under  the  class."
   ]
  },
  {
   "cell_type": "code",
   "execution_count": 13,
   "metadata": {},
   "outputs": [
    {
     "name": "stdout",
     "output_type": "stream",
     "text": [
      "8 gb , 1 tb harddisk , i5\n"
     ]
    }
   ],
   "source": [
    "comp2 = computer()\n",
    "comp2.config()   #  here,  we  arecreating  another  object  comp2   which  comes  under  the class computer  and  we  have \n",
    "                  #  defined  the   some   attributes  in it  like  configuration  of  computer.  in  this  way, we\n",
    "                    #  can  create  n  number  of   objects  of   the class  with  behaviour   and  attributes  in it."
   ]
  },
  {
   "cell_type": "code",
   "execution_count": 14,
   "metadata": {},
   "outputs": [],
   "source": [
    "class  computer:               # here,  we  have  created a class  computer  and initialized  with  a special  character(__init__)                           # \n",
    "    def __init__(self):     # which helps  in calling  the  objects  esaily.\n",
    "        print(\"in init\")\n",
    "    def config(self):   \n",
    "        print(\"8 gb , 1 tb harddisk ,i5\")"
   ]
  },
  {
   "cell_type": "code",
   "execution_count": 19,
   "metadata": {},
   "outputs": [
    {
     "name": "stdout",
     "output_type": "stream",
     "text": [
      "in init\n",
      "in init\n"
     ]
    }
   ],
   "source": [
    "comp1 = computer(\"i7\", \"16gb\")  #  here , we  have  created  the  two  objects and   without  calling  the in  init  they  are\n",
    "                                   # automatically  printed  though  they are  not  called because in  the  before code\n",
    "comp2 = computer(\"i3\", \"8gb\")   # we have   created a  special  function that is  init  .  so,  now  it is  called  auomatically.\n",
    "\n",
    "\n",
    "   #  the  init  special  function  which we have  defined  in  the  above  code ,  is  used run the object   class  as \n",
    "    # soon  as  it  is  created."
   ]
  },
  {
   "cell_type": "code",
   "execution_count": null,
   "metadata": {},
   "outputs": [],
   "source": []
  },
  {
   "cell_type": "code",
   "execution_count": 20,
   "metadata": {},
   "outputs": [],
   "source": [
    "class  computer :                       #  here,  we have  created  the class computer  and special  function  function init\n",
    "    def __init__(self,processor, Ram):   #  for  creating the  objects  with  the  different  parameters  of config.\n",
    "        self.processor = processor\n",
    "        self.Ram = Ram\n",
    "        print(\"in init\")\n",
    "    def config(self):   \n",
    "        print(\"the speed: \", self.processor , \"ram is: \",self.Ram)"
   ]
  },
  {
   "cell_type": "code",
   "execution_count": 21,
   "metadata": {},
   "outputs": [
    {
     "name": "stdout",
     "output_type": "stream",
     "text": [
      "the speed:  i7 ram is:  16gb\n"
     ]
    }
   ],
   "source": [
    "comp1.config()  #  here, we  have  got the reequired  result"
   ]
  },
  {
   "cell_type": "code",
   "execution_count": 23,
   "metadata": {},
   "outputs": [
    {
     "name": "stdout",
     "output_type": "stream",
     "text": [
      "the speed:  i3 ram is:  8gb\n"
     ]
    }
   ],
   "source": [
    "comp2.config()"
   ]
  },
  {
   "cell_type": "markdown",
   "metadata": {},
   "source": [
    "#  INHERITANCE:"
   ]
  },
  {
   "cell_type": "markdown",
   "metadata": {},
   "source": [
    "# 1.  example  of  single  inheritance:"
   ]
  },
  {
   "cell_type": "code",
   "execution_count": 42,
   "metadata": {},
   "outputs": [],
   "source": [
    "class employee1():\n",
    "    def __init__(self , name , age, salary):   #  here,  we  are creating  the  class  the  first  part  is  generally\n",
    "        self.name = name\n",
    "        self.age = age                    #  called as  the parent class  and the second class is called as the child  class\n",
    "        self.salary = salary\n",
    "    def Nameofemployee(self):       #  so,  here  we  had created  the child class under the parent class\n",
    "        print(\"name is\", self.name)\n",
    "class childemployee(employee1):\n",
    "    def __init__(self , name , age, salary):\n",
    "        self.name = name\n",
    "        self.age = age\n",
    "        self.salary = salary\n",
    "    def employeename(self):\n",
    "        print(\"name is\" ,self.name)"
   ]
  },
  {
   "cell_type": "code",
   "execution_count": 43,
   "metadata": {},
   "outputs": [],
   "source": [
    "child1 = childemployee(\"pradeepthi\",20000,35)   #  in the  previous  code we  had declared the  parent  class and  in \n",
    "\n",
    "#  this code  we  had given the values  to  the  parameters  previously  defined in the parent  class."
   ]
  },
  {
   "cell_type": "code",
   "execution_count": 44,
   "metadata": {},
   "outputs": [
    {
     "name": "stdout",
     "output_type": "stream",
     "text": [
      "name is pradeepthi\n"
     ]
    }
   ],
   "source": [
    "child1.Nameofemployee()  #  here, we  are  accessing  from the previously  defined  parent class. \n",
    "\n",
    "#"
   ]
  },
  {
   "cell_type": "code",
   "execution_count": 45,
   "metadata": {},
   "outputs": [
    {
     "ename": "AttributeError",
     "evalue": "'employee1' object has no attribute 'employeename'",
     "output_type": "error",
     "traceback": [
      "\u001b[1;31m---------------------------------------------------------------------------\u001b[0m",
      "\u001b[1;31mAttributeError\u001b[0m                            Traceback (most recent call last)",
      "\u001b[1;32m<ipython-input-45-3147142cea62>\u001b[0m in \u001b[0;36m<module>\u001b[1;34m\u001b[0m\n\u001b[0;32m      1\u001b[0m \u001b[0memp1\u001b[0m \u001b[1;33m=\u001b[0m \u001b[0memployee1\u001b[0m\u001b[1;33m(\u001b[0m\u001b[1;34m\"sandeep\"\u001b[0m\u001b[1;33m,\u001b[0m\u001b[1;36m27\u001b[0m\u001b[1;33m,\u001b[0m\u001b[1;36m100000\u001b[0m\u001b[1;33m)\u001b[0m\u001b[1;33m\u001b[0m\u001b[1;33m\u001b[0m\u001b[0m\n\u001b[1;32m----> 2\u001b[1;33m \u001b[0memp1\u001b[0m\u001b[1;33m.\u001b[0m\u001b[0memployeename\u001b[0m\u001b[1;33m(\u001b[0m\u001b[1;33m)\u001b[0m\u001b[1;33m\u001b[0m\u001b[1;33m\u001b[0m\u001b[0m\n\u001b[0m",
      "\u001b[1;31mAttributeError\u001b[0m: 'employee1' object has no attribute 'employeename'"
     ]
    }
   ],
   "source": [
    "emp1 = employee1(\"sandeep\",27,100000)\n",
    "emp1.employeename()     #  here,we  are  getting  the  error  in   our  code  because  the  charcters  of  the  child   class\n",
    "                         #  cannot be  accessed  by the parent  class  since it is  a  single inheritance  type."
   ]
  },
  {
   "cell_type": "markdown",
   "metadata": {},
   "source": [
    "#  MULTI LEVEL INHERITANCE  CLASS:"
   ]
  },
  {
   "cell_type": "code",
   "execution_count": null,
   "metadata": {},
   "outputs": [],
   "source": [
    "\n",
    "    "
   ]
  },
  {
   "cell_type": "code",
   "execution_count": 60,
   "metadata": {},
   "outputs": [],
   "source": [
    "class employee():  #  super class\n",
    "    def __init__(self , name , age, salary):  \n",
    "        self.name = name\n",
    "        self.age = age                    \n",
    "        self.salary = salary\n",
    "    def Nameofemployee(self):       \n",
    "        print(\"name is\", self.name)\n",
    "class childemployee1(employee):     # child employee1  will  inherits  the  properties  from  the parent  class.\n",
    "    def __init__(self , name , age, salary):\n",
    "        self.name = name\n",
    "        self.age = age\n",
    "        self.salary = salary\n",
    "    def employeename(self):\n",
    "        print(\"name is\" ,self.name)\n",
    "    def childonesalary(self):\n",
    "        print(\"salary is\", self.salary)       \n",
    "    \n",
    "        \n",
    "        \n",
    "class childemployee2(childemployee1):      #  here,  the childemployee2  will  inherit  the  properties  from the childemployee1\n",
    "    def __init__(self , name , age, salary):\n",
    "        self.name = name\n",
    "        self.age = age\n",
    "        self.salary = salary\n",
    "    def employeename(self):\n",
    "        print(\"name is\" ,self.name)\n",
    "        \n",
    "        \n"
   ]
  },
  {
   "cell_type": "code",
   "execution_count": 61,
   "metadata": {},
   "outputs": [],
   "source": [
    "child1 = childemployee1(\"pradeepthi\",25,300000)\n",
    "child2 = childemployee2(\"sandeep\",25,350000)"
   ]
  },
  {
   "cell_type": "code",
   "execution_count": 63,
   "metadata": {},
   "outputs": [
    {
     "name": "stdout",
     "output_type": "stream",
     "text": [
      "salary is 350000\n"
     ]
    }
   ],
   "source": [
    "child2.childonesalary()  #  here,    the  child2 is accessing or  grabbig  fro the  child  1  properties."
   ]
  },
  {
   "cell_type": "code",
   "execution_count": null,
   "metadata": {},
   "outputs": [],
   "source": [
    "child1.Nameofemployee() #  here, the child1  is  grabing  or  inheriting the  properties    from  the  super  class  which  is  \n",
    "                        #  parent  of  the child1class."
   ]
  },
  {
   "cell_type": "code",
   "execution_count": null,
   "metadata": {},
   "outputs": [],
   "source": [
    "child2.Nameofemployee()  #  here, the  child2  is  inheriting  the  properties from the super  class  which  is  grandparent  to\n",
    "                          #  child  2 class.\n",
    "    \n",
    " #   so,  finally  in  this   muliti - level inheritance  class  any  child  class  can  access  its   parent  class  or \n",
    "    # above defined  grandparents  classes."
   ]
  },
  {
   "cell_type": "markdown",
   "metadata": {},
   "source": [
    "#  hierrachical  inheritance  class:"
   ]
  },
  {
   "cell_type": "code",
   "execution_count": null,
   "metadata": {},
   "outputs": [],
   "source": []
  },
  {
   "cell_type": "code",
   "execution_count": 65,
   "metadata": {},
   "outputs": [],
   "source": [
    "class employee():  #  super class\n",
    "    def __init__(self , name , age, salary):  \n",
    "        self.name = name\n",
    "        self.age = age                    \n",
    "        self.salary = salary\n",
    "    def Nameofemployee(self):       \n",
    "        print(\"name is\", self.name)\n",
    "class childemployee1(employee):     # child employee1  will  inherits  the  properties  from  the parent  class.\n",
    "    def __init__(self , name , age, salary):\n",
    "        self.name = name\n",
    "        self.age = age\n",
    "        self.salary = salary\n",
    "    def employeename(self):\n",
    "        print(\"name is\" ,self.name)\n",
    "    def childonesalary(self):\n",
    "        print(\"salary is\", self.salary)       \n",
    "    \n",
    "        \n",
    "        \n",
    "class childemployee2(employee):      #  here,  the childemployee2  will  inherit  the  properties  of the  super class  that  \n",
    "    def __init__(self , name , age, salary):  #  is  employee.beacuse  here,  we  are  inheritimg  the  propeties\n",
    "        self.name = name\n",
    "        self.age = age               #  of  super class  to  both  the  child  1 and  2  classes.\n",
    "        self.salary = salary\n",
    "    def employeename(self):\n",
    "        print(\"name is\" ,self.name)\n",
    "        \n",
    "        \n"
   ]
  },
  {
   "cell_type": "code",
   "execution_count": 64,
   "metadata": {},
   "outputs": [],
   "source": [
    "child1 = childemployee1(\"pradeepthi\", 25, 300000)\n",
    "child2 = childemployee2(\"sandeep\",25,350000)        #  here  in  the   hierrachical  inheritance  , we  have to  remember  one  \n",
    "  \n",
    "    #  thing  that  the  child 1 and  child 2  can  inherit  the properties  from  the  super class  which is  employee\n",
    "    #  but  the  child  2  cannot inherit  the properties  from  the child 1 . so,  both  the  child  classes  cannot  inherits \n",
    "    #  its  properties  among  each  other as  it  is  a hierrachical  inheritance."
   ]
  },
  {
   "cell_type": "code",
   "execution_count": 66,
   "metadata": {},
   "outputs": [
    {
     "name": "stdout",
     "output_type": "stream",
     "text": [
      "name is pradeepthi\n"
     ]
    }
   ],
   "source": [
    "child1.Nameofemployee()   #  here, the  child1  is  inheriting  it's  properties  from  the employee  class."
   ]
  },
  {
   "cell_type": "code",
   "execution_count": null,
   "metadata": {},
   "outputs": [],
   "source": []
  },
  {
   "cell_type": "code",
   "execution_count": 67,
   "metadata": {},
   "outputs": [
    {
     "name": "stdout",
     "output_type": "stream",
     "text": [
      "name is sandeep\n"
     ]
    }
   ],
   "source": [
    "child2.Nameofemployee()   #  here, the  child2  is  inheriting  it's  properties  from  the employee  class."
   ]
  },
  {
   "cell_type": "markdown",
   "metadata": {},
   "source": [
    "#  MULTIPLE  INHERITANCE: "
   ]
  },
  {
   "cell_type": "code",
   "execution_count": null,
   "metadata": {},
   "outputs": [],
   "source": []
  },
  {
   "cell_type": "code",
   "execution_count": 74,
   "metadata": {},
   "outputs": [],
   "source": [
    "class employee1(): \n",
    "    def __init__(self , name , age, salary):  \n",
    "        self.name = name\n",
    "        self.age = age                    \n",
    "        self.salary = salary\n",
    "    def employeename(self):       \n",
    "        print(\"name is\", self.name)\n",
    "class employee2(): \n",
    "    def __init__(self , name , age, salary):\n",
    "        self.name = name\n",
    "        self.age = age\n",
    "        self.salary = salary\n",
    "    def salaryofemployee(self):\n",
    "        print(\"salary is\" ,self.salary)\n",
    "      \n",
    "                                                       #  here,  we  had  created  the  mulitpli  inheritance ,  where \n",
    "        \n",
    "        \n",
    "class childemployee(employee1,employee2):          # the childemployee  will  inherit  the  properties   from the  employee1\n",
    "    def __init__(self , name , age, salary):     # employee  2  .  THe  childemployee  is  like  you  and   employee1\n",
    "        self.name = name                      #  employee2  are  like   your  father  an  mother  parents  and  you  are\n",
    "        self.age = age              #  the  properties  from     your  father's and  mother's  parents. \n",
    "        self.salary = salary\n",
    "\n",
    "        \n",
    "        \n"
   ]
  },
  {
   "cell_type": "code",
   "execution_count": 75,
   "metadata": {},
   "outputs": [],
   "source": [
    "child = childemployee(\"sneha\",23,20000)"
   ]
  },
  {
   "cell_type": "code",
   "execution_count": 76,
   "metadata": {},
   "outputs": [
    {
     "name": "stdout",
     "output_type": "stream",
     "text": [
      "salary is 20000\n"
     ]
    }
   ],
   "source": [
    "child.salaryofemployee()  # the  child  is  inheriting the  property  fro"
   ]
  },
  {
   "cell_type": "markdown",
   "metadata": {},
   "source": [
    "#  POLYMORPHISM CONCEPT IN  OOPS"
   ]
  },
  {
   "cell_type": "code",
   "execution_count": null,
   "metadata": {},
   "outputs": [],
   "source": [
    "there  are  2   types  of  polymorphism:"
   ]
  },
  {
   "cell_type": "markdown",
   "metadata": {},
   "source": [
    "# 1.example of  compile time polymorphism:"
   ]
  },
  {
   "cell_type": "code",
   "execution_count": 1,
   "metadata": {},
   "outputs": [],
   "source": [
    "class employee():             #  here,  we have created rthe  examle  code  for  the  compile time  polymorphism  type\n",
    "    def name(self):\n",
    "        print(\"pradeepthi\")\n",
    "    def age(self):                   #  here  ,  we   had  created  the  code  of  the  class   function that  is  creating\n",
    "        print(\"24\")\n",
    "    def salary(self):          #  the name  ,  age  ,  salary  attributes\n",
    "        print(20000)     \n",
    "class employee2():\n",
    "    def name(self):\n",
    "        print(\"pradeepthi\")\n",
    "    def age(self):\n",
    "        print(\"24\")\n",
    "    def salary(self):\n",
    "        print(20000)"
   ]
  },
  {
   "cell_type": "code",
   "execution_count": 3,
   "metadata": {},
   "outputs": [],
   "source": [
    "def func(obj):     #   here,  we  are  creating  another  function  that  is  creating  the attributes  or   functions  same \n",
    "    obj.name()\n",
    "    obj.salary()       #  as  the  previous  code,  but  it  is a  different  function  of  previous  one.\n",
    "    obj.age()"
   ]
  },
  {
   "cell_type": "code",
   "execution_count": 4,
   "metadata": {},
   "outputs": [],
   "source": [
    "obj_employee1 = employee()\n",
    "obj_employee2 = employee2()"
   ]
  },
  {
   "cell_type": "code",
   "execution_count": 5,
   "metadata": {},
   "outputs": [
    {
     "name": "stdout",
     "output_type": "stream",
     "text": [
      "pradeepthi\n",
      "20000\n",
      "24\n",
      "pradeepthi\n",
      "20000\n",
      "24\n"
     ]
    }
   ],
   "source": [
    "func(obj_employee1)\n",
    "func(obj_employee2)    #  here  ,  we  are  accessing  the  two  different  functions  that  we have  created.\n",
    "\n",
    "                     # so, basically  here  in  the  code   we  are   craeting  two   different  functions  but  with  \n",
    "    # same  attributes.  so,  this  is  known   as  the  polymorphism.   and  here  the  method  overeloading is  done  \n",
    "    #  because  the  same  attributes  are  created   with  two  different  functions."
   ]
  },
  {
   "cell_type": "markdown",
   "metadata": {},
   "source": [
    "# 2  TYPE  OF  POLYMORPHISM   THAT  IS  * RUN-TIME  POLYMORPHISM:"
   ]
  },
  {
   "cell_type": "code",
   "execution_count": null,
   "metadata": {},
   "outputs": [],
   "source": [
    "example  for  method  over  loading  "
   ]
  },
  {
   "cell_type": "code",
   "execution_count": null,
   "metadata": {},
   "outputs": [],
   "source": []
  },
  {
   "cell_type": "code",
   "execution_count": 8,
   "metadata": {},
   "outputs": [],
   "source": [
    "class employee():           \n",
    "    def __init__(self, name, age, id, salary):\n",
    "        self.name = name\n",
    "        self.id = id\n",
    "        self.age = age\n",
    "        self.salary = salary\n",
    "    def earn(self):\n",
    "        print(\"nothing\")\n",
    "class childemployee1(employee):\n",
    "    def earn(self):\n",
    "        print(\"no money\")\n",
    "class childemployee2(employee):\n",
    "    def earn(self):\n",
    "        print(\"has money\")"
   ]
  },
  {
   "cell_type": "code",
   "execution_count": 10,
   "metadata": {},
   "outputs": [],
   "source": [
    "c = childemployee1\n",
    "d = childemployee2"
   ]
  },
  {
   "cell_type": "code",
   "execution_count": 11,
   "metadata": {},
   "outputs": [
    {
     "name": "stdout",
     "output_type": "stream",
     "text": [
      "no money\n"
     ]
    }
   ],
   "source": [
    "c.earn(employee)    #  here  in  the  empoloyee  function  we  had  written    nothing  but  it  is  not  getting  printed\n",
    "\n",
    "# beacuse  of  the  problem of over-loading.  so,  if  suppose  there  are  2 functions  which  are  having    the  same\n",
    "\n",
    "#functionality  then whichever the  function that is specfied to  that  particular class  will  be  calledeven  though  \n",
    "\n",
    "#whether  that  is  in the parent  class  or child  class.this  is  what  about  te  over  loading "
   ]
  },
  {
   "cell_type": "code",
   "execution_count": 12,
   "metadata": {},
   "outputs": [
    {
     "name": "stdout",
     "output_type": "stream",
     "text": [
      "has money\n"
     ]
    }
   ],
   "source": [
    "d.earn(employee)"
   ]
  },
  {
   "cell_type": "markdown",
   "metadata": {},
   "source": [
    "#   ENcapsulation:"
   ]
  },
  {
   "cell_type": "code",
   "execution_count": 19,
   "metadata": {},
   "outputs": [],
   "source": [
    "class employee(object):\n",
    "    def __init__(self):\n",
    "        self.name = 134\n",
    "        self._age = 1234\n",
    "        self.__salary = 12345"
   ]
  },
  {
   "cell_type": "code",
   "execution_count": 20,
   "metadata": {},
   "outputs": [
    {
     "name": "stdout",
     "output_type": "stream",
     "text": [
      "134\n",
      "1234\n"
     ]
    },
    {
     "ename": "AttributeError",
     "evalue": "'employee' object has no attribute '__salary'",
     "output_type": "error",
     "traceback": [
      "\u001b[1;31m---------------------------------------------------------------------------\u001b[0m",
      "\u001b[1;31mAttributeError\u001b[0m                            Traceback (most recent call last)",
      "\u001b[1;32m<ipython-input-20-c0e536cef852>\u001b[0m in \u001b[0;36m<module>\u001b[1;34m\u001b[0m\n\u001b[0;32m      2\u001b[0m \u001b[0mprint\u001b[0m\u001b[1;33m(\u001b[0m\u001b[0mobject1\u001b[0m\u001b[1;33m.\u001b[0m\u001b[0mname\u001b[0m\u001b[1;33m)\u001b[0m\u001b[1;33m\u001b[0m\u001b[1;33m\u001b[0m\u001b[0m\n\u001b[0;32m      3\u001b[0m \u001b[0mprint\u001b[0m\u001b[1;33m(\u001b[0m\u001b[0mobject1\u001b[0m\u001b[1;33m.\u001b[0m\u001b[0m_age\u001b[0m\u001b[1;33m)\u001b[0m\u001b[1;33m\u001b[0m\u001b[1;33m\u001b[0m\u001b[0m\n\u001b[1;32m----> 4\u001b[1;33m \u001b[0mprint\u001b[0m\u001b[1;33m(\u001b[0m\u001b[0mobject1\u001b[0m\u001b[1;33m.\u001b[0m\u001b[0m__salary\u001b[0m\u001b[1;33m)\u001b[0m\u001b[1;33m\u001b[0m\u001b[1;33m\u001b[0m\u001b[0m\n\u001b[0m",
      "\u001b[1;31mAttributeError\u001b[0m: 'employee' object has no attribute '__salary'"
     ]
    }
   ],
   "source": [
    "object1 = employee()\n",
    "print(object1.name)\n",
    "print(object1._age)\n",
    "print(object1.__salary)   #  the  underscore-underscore  is  the  private  varibale  that  is  defined in  python.\n",
    "\n",
    "#  since,  undescore  undescore  is  private  varibale  which  was  declared  as  a  salary.  so, it  cannot  be accessed  in  \n",
    "\n",
    "# outside the class.  that is  the  reason  we   , are  getting  the  error  in  the code   while  accessing  the  salary  since\n",
    "\n",
    "# it  is  a private member we  cannot access  it  outside the class."
   ]
  },
  {
   "cell_type": "code",
   "execution_count": 25,
   "metadata": {},
   "outputs": [],
   "source": [
    "class employee():\n",
    "    def __init__(self):\n",
    "        self.__maxearn = 1234567\n",
    "    def earn(self):\n",
    "        print(\"earning is\", self.__maxearn)\n",
    "    def setmaxearn(self,earn):\n",
    "        self.__maxearn = earn"
   ]
  },
  {
   "cell_type": "code",
   "execution_count": 26,
   "metadata": {},
   "outputs": [
    {
     "name": "stdout",
     "output_type": "stream",
     "text": [
      "earning is 1234567\n"
     ]
    }
   ],
   "source": [
    "emp1 = employee()\n",
    "emp1.earn()"
   ]
  },
  {
   "cell_type": "code",
   "execution_count": 30,
   "metadata": {},
   "outputs": [
    {
     "name": "stdout",
     "output_type": "stream",
     "text": [
      "earning is 1234567\n"
     ]
    }
   ],
   "source": [
    "emp1.__maxearn = 13678\n",
    "emp1.earn()              #  here  we  are trying  to  change  the  value of the  maxearn  but  unable to change  beacuse \n",
    "                        # it  is   a  private  member and  we cannot  access  it directly."
   ]
  },
  {
   "cell_type": "code",
   "execution_count": null,
   "metadata": {},
   "outputs": [],
   "source": []
  },
  {
   "cell_type": "code",
   "execution_count": 32,
   "metadata": {},
   "outputs": [
    {
     "name": "stdout",
     "output_type": "stream",
     "text": [
      "earning is 13678\n"
     ]
    }
   ],
   "source": [
    "emp1.setmaxearn(13678)\n",
    "emp1.earn()              #  here  we  are trying  to  change  the  value of the  maxearn  and  we are able to change  though\n",
    "                    #  it  is  a  private member  because  we  are  changing  the  value  in a  indirect mode  and  not  direct\n",
    "               #   mode."
   ]
  },
  {
   "cell_type": "markdown",
   "metadata": {},
   "source": [
    "#  ABSTRACTION   METHOD  IN  PYTHON:"
   ]
  },
  {
   "cell_type": "code",
   "execution_count": 2,
   "metadata": {},
   "outputs": [],
   "source": [
    "from abc import ABC , abstractmethod   #  here,  we  are  creating the abc method  which is a  abstarct method and  the  \n",
    "class employee(ABC):                     # properties  or varibales defined in the abstarct  method are not visible\n",
    "    def emp_id(self,id,name,age,salary):  # to us  beacuse  as we  are the user.\n",
    "        pass\n",
    "class childemployee1(employee):     #  here, the  employee  will  inherit  the  properties  from  the ABC  abstract  method.\n",
    "    def emp_id(self,id):            \n",
    "        print(\"id is 12345\")    #here, the childemployee1  Will  inherit  the  properties  from  the   employee.\n",
    "    "
   ]
  },
  {
   "cell_type": "code",
   "execution_count": 4,
   "metadata": {},
   "outputs": [
    {
     "name": "stdout",
     "output_type": "stream",
     "text": [
      "id is 12345\n"
     ]
    }
   ],
   "source": [
    "emp1 = childemployee1()\n",
    "emp1.emp_id(id)              #  here, we  have created a object  for  child employee.\n",
    "\n",
    "                  # as  we  can  see  in  in the  above  program  , we have  imported the  abstract method  and   we  have  a  \n",
    "    # parent  and  a  derived class(child class).  An object is intiated from the  child  employee class  and  functionality\n",
    "    #  of  the abstract class is  being used.   \n",
    "    \n",
    "    # so, here  the  id  is  printed  without  knowing  the without  knowing the  functionality  of  your  ABC  class(which  is  the abstract class  in  our  program)"
   ]
  },
  {
   "cell_type": "code",
   "execution_count": null,
   "metadata": {},
   "outputs": [],
   "source": []
  },
  {
   "cell_type": "code",
   "execution_count": null,
   "metadata": {},
   "outputs": [],
   "source": []
  },
  {
   "cell_type": "code",
   "execution_count": null,
   "metadata": {},
   "outputs": [],
   "source": []
  },
  {
   "cell_type": "code",
   "execution_count": null,
   "metadata": {},
   "outputs": [],
   "source": []
  },
  {
   "cell_type": "code",
   "execution_count": null,
   "metadata": {},
   "outputs": [],
   "source": []
  },
  {
   "cell_type": "code",
   "execution_count": null,
   "metadata": {},
   "outputs": [],
   "source": []
  },
  {
   "cell_type": "code",
   "execution_count": null,
   "metadata": {},
   "outputs": [],
   "source": []
  },
  {
   "cell_type": "code",
   "execution_count": null,
   "metadata": {},
   "outputs": [],
   "source": []
  },
  {
   "cell_type": "code",
   "execution_count": null,
   "metadata": {},
   "outputs": [],
   "source": []
  },
  {
   "cell_type": "code",
   "execution_count": null,
   "metadata": {},
   "outputs": [],
   "source": []
  },
  {
   "cell_type": "code",
   "execution_count": null,
   "metadata": {},
   "outputs": [],
   "source": []
  },
  {
   "cell_type": "code",
   "execution_count": null,
   "metadata": {},
   "outputs": [],
   "source": []
  },
  {
   "cell_type": "code",
   "execution_count": null,
   "metadata": {},
   "outputs": [],
   "source": []
  }
 ],
 "metadata": {
  "kernelspec": {
   "display_name": "Python 3",
   "language": "python",
   "name": "python3"
  },
  "language_info": {
   "codemirror_mode": {
    "name": "ipython",
    "version": 3
   },
   "file_extension": ".py",
   "mimetype": "text/x-python",
   "name": "python",
   "nbconvert_exporter": "python",
   "pygments_lexer": "ipython3",
   "version": "3.7.6"
  }
 },
 "nbformat": 4,
 "nbformat_minor": 4
}
